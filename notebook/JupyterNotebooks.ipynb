{
 "cells": [
  {
   "cell_type": "markdown",
   "metadata": {},
   "source": [
    "# Jupyter/Ipython Notebooks\n",
    "\n",
    "[This file](./JupyterNotebooks.ipynb) is a jupyter notebook. The notebook is a convenient way to leverage your web-broswer to do interactive computing. To unpack that a bit more, it gives you access to a rich set of elements such as documentation, code cells, visualizations, interactive controls etc. from which you can capture your work or reasearch **as you think**. As a side-effect you end up with a very effective tool for communicating your ideas (and learning from others) and you can move smoothly from exploring an idea to a production workflow on HPC systems.\n",
    "\n",
    "The Jupyter notebook took its inspiration from systems like mathematica and matlab which in turn took their inspiration from old-school physical notebooks. Each link in that chain brings something new and powerful to the scientific workflow and it is worth exploring that a bit more by looking at the project history"
   ]
  },
  {
   "cell_type": "markdown",
   "metadata": {},
   "source": [
    "# Interactive Computation\n",
    "\n",
    "A typical research workflow stars with a problem them you have a loop something like ...\n",
    "\n",
    "  1. Capture some relevant data\n",
    "  1. Explore the data: Make some plots, clean it, slice it, dice it\n",
    "  1. Look for structure, test some hypotheses\n",
    "  1. Build a model\n",
    "\n",
    "In most cases you're doing this sitting in front of the same screen, and interactive computation is about making that process as fluid, pleasant and effective as possible. It's like machine learning with a fancy ASIC (you!) interactive computing is about making sure we feed that resource as efficiently and effectively as possible."
   ]
  },
  {
   "cell_type": "markdown",
   "metadata": {
    "slideshow": {
     "slide_type": "slide"
    }
   },
   "source": [
    "# The Jupyter ecosystem\n",
    "\n",
    "Loosely the Jupyter ecosystem encompases a wide range of software and standards which tries to live up to the promise of interactive computing\n",
    "\n",
    "* Software: Jupyter, JupyterHub, JupyterLab, IPython, IRkernel, Binder, ...\n",
    "* Protocols: Jupyter Kernel Protocol, Notebook Format; Notebook server, JupyterHub REST APIs\n",
    "* Community: [jupyter](https://github.com/jupyter), [jupyterhub](https://github.com/jupytercon), [scipy](https://conference.scipy.org/), [jupytercon](https://conferences.oreilly.com/jupyter/jup-ny)"
   ]
  },
  {
   "cell_type": "markdown",
   "metadata": {
    "slideshow": {
     "slide_type": "slide"
    }
   },
   "source": [
    "## A Little History\n",
    "* IPython started as an interactive shell for python in 2001 by *Fernando Perez (CU)*\n",
    "  * Inspired by Mathematica's notebook interface\n",
    "  * Python interactive shell c.f. IDLE etc.\n",
    "  * .ipynb JSON lists of cells + state = interactive REPL\n",
    "  * Command history, integrated help, *%magics* etc.\n",
    "  \n",
    "* 2010 architecture shifted to ZMQ - Implementing two-process implementation of IPython Kernel/Client (QT)"
   ]
  },
  {
   "cell_type": "markdown",
   "metadata": {
    "slideshow": {
     "slide_type": "notes"
    }
   },
   "source": [
    "Already at this point the idea that the protocols are the important thing started peeking through. If you specify specify a standard for .ipynb files, people can write other clients without worrying about you breaking things, e.g nteract from netflix as a UI for notebooks, or the QT interface or the notebook interface. As long as the standard stays the same all of them will work and can _continue development_!"
   ]
  },
  {
   "cell_type": "markdown",
   "metadata": {
    "slideshow": {
     "slide_type": "subslide"
    }
   },
   "source": [
    "* 2011 notebook added as a frontend (*James Gao*)\n",
    "  * IO cells which can contain code, narrative, mathematics, plots, interactive controls and rich media.\n",
    "  <div style=\"text-align:center\"><img src=\"./images/ipy_0.13.png\" width=\"600px\" /></div>"
   ]
  },
  {
   "cell_type": "markdown",
   "metadata": {
    "slideshow": {
     "slide_type": "notes"
    }
   },
   "source": [
    "* Live Code\n",
    "* Narrative Text\n",
    "* Mathematical Equations\n",
    "* Visualizations\n",
    "* Interactive Control\n",
    "* Rich Media"
   ]
  },
  {
   "cell_type": "markdown",
   "metadata": {
    "slideshow": {
     "slide_type": "subslide"
    }
   },
   "source": [
    "* **2014** Spin-off project from IPython called Project Jupyter - formalizes and extends the kernel/client split\n",
    "  * Python, R, Julia, Haskell, Octave, Matlab, ... (~40 kernels)\n",
    "  * Now IPython *ONLY* refers to the Python kernel\n",
    "* **2015** JupyterHub - Multiuser version of the notebook. Pluggable authentication and spawners\n",
    "* **2018** JupyterLab - An _extensible_! IDE\n",
    "\n",
    "<div style=\"padding-top:40px;\">\n",
    "<div style=\"float:left;margin-left:150px;\"><img src=\"./images/jupyter.png\" width=\"250px\"></div>\n",
    "<div style=\"float:right;margin-right:150px;\"><img src=\"./images/foz_login_page.png\" width=\"250px\"></div>\n",
    "</div>"
   ]
  },
  {
   "cell_type": "markdown",
   "metadata": {
    "slideshow": {
     "slide_type": "slide"
    }
   },
   "source": [
    "## Project Jupyter\n",
    "\n",
    "* Strong support and governance anchored at UC Berkeley\n",
    "* Widely adopted (~$7\\times10^6$ notebooks visible on github)\n",
    "* Also picked up some awards\n",
    "  * 2013 Free Software Foundation Advancement of Free Software Award\n",
    "  * 2018 ACM Software System Award\n",
    "* Reference example of open standards in Interactive Computing"
   ]
  },
  {
   "cell_type": "markdown",
   "metadata": {
    "slideshow": {
     "slide_type": "subslide"
    }
   },
   "source": [
    "<div style=\"float:left;margin-left:150px;\"><img src=\"./images/Sponsors.png\" width=\"600px\"></div>"
   ]
  },
  {
   "cell_type": "markdown",
   "metadata": {
    "slideshow": {
     "slide_type": "subslide"
    }
   },
   "source": [
    "<div style=\"float:left;margin-left:150px;\"><img src=\"./images/InstitutionalSupport.png\" width=\"600px\"></div>"
   ]
  },
  {
   "cell_type": "markdown",
   "metadata": {
    "slideshow": {
     "slide_type": "slide"
    }
   },
   "source": [
    "## [syzygy.ca](https://syzygy.ca)\n",
    "\n",
    "A partnership between [PIMS](https://www.pims.math.ca), [Compute Canada](https://www.computecanada.ca/) and [Cybera](https://cybera.ca) to provide [JupyterHubs](https://github.com/jupyterhub/) for Canadian researchers and students.\n",
    "\n",
    "* Focus on University/Organization/Workshop Hubs\n",
    "* 30+ Hubs, 21 Universities ~26500 accounts\n",
    "* Leverages University SSO (Shibboleth)\n",
    "* R, Python3 kernels\n",
    "\n",
    "Research is a \"Work in progress\". All of the tools we'll talk about today are available, but not always in the smoothest way!\n"
   ]
  },
  {
   "cell_type": "markdown",
   "metadata": {
    "slideshow": {
     "slide_type": "slide"
    }
   },
   "source": [
    "## Accessing Jupyter\n",
    "\n",
    "1. On your laptop: [anaconda](https://www.anaconda.com/)\n",
    "1. On syzygy: (https://westgrid.syzygy.ca)\n",
    "1. On CC-HPC systems: check the [wiki](https://docs.computecanada.ca/wiki/Jupyter)"
   ]
  },
  {
   "cell_type": "markdown",
   "metadata": {
    "slideshow": {
     "slide_type": "slide"
    }
   },
   "source": [
    "## [Anaconda](https://www.anaconda.com/)\n",
    "\n",
    "This is the local option, you install on your device and can control all aspects of it\n",
    "\n",
    "* Installers for Mac, Windows, Linux\n",
    "* Provides a large package index for Python/R/etc.\n",
    "* Operate `conda env` - practise safe conda\n",
    "\n",
    "Well integrated and always available (flights, conference \"wifi\" etc.). "
   ]
  },
  {
   "cell_type": "markdown",
   "metadata": {
    "slideshow": {
     "slide_type": "subslide"
    }
   },
   "source": [
    "```\n",
    "$ conda create --name westgrid-rss\n",
    "$ conda create -n westgrid-rss python=3.7\n",
    "$ source activate westrid-rss\n",
    "```\n",
    "\n",
    "Your prompt should be updated to remind you which env you are in\n",
    "```\n",
    "$ conda list -n westgrid-rss\n",
    "$ conda install -n westgrid-rss spacy\n",
    "$ conda install -n westgrid-rss pip\n",
    "```\n",
    "You can capture and share environments with `conda env export > environment.yml`. Which people can then rebuild `conda env create -f environment.yml`."
   ]
  },
  {
   "cell_type": "markdown",
   "metadata": {
    "slideshow": {
     "slide_type": "slide"
    }
   },
   "source": [
    "## [syzygy.ca](https://syzygy.ca)\n",
    "\n",
    "Org based hubs, e.g. https://westgrid.syzygy.ca\n",
    "* Access is controlled by the institution\n",
    "* Common packages should \"just work\"\n",
    "* R and Python3 installed\n",
    "* Some extensions enabled (nbgitpuller and RISE)\n",
    "\n",
    "Capacity is limited, 1 core + 2GB Mem + 1GB storage."
   ]
  },
  {
   "cell_type": "markdown",
   "metadata": {
    "slideshow": {
     "slide_type": "slide"
    }
   },
   "source": [
    "## HPC-CC\n",
    "\n",
    "Most CC systems don't have a hub associated with them (we're trying to change this!) but all have parts of the Jupyter ecosystem available. \n",
    "\n",
    "* See https://docs.computecanada.ca/wiki/Jupyter\n",
    "\n",
    "Might take a little playing with environment variables and software modules, but gives you access to large resources"
   ]
  },
  {
   "cell_type": "markdown",
   "metadata": {
    "slideshow": {
     "slide_type": "slide"
    }
   },
   "source": [
    "# The Notebook\n",
    "\n",
    "* [documentation](https://jupyter-notebook.readthedocs.io/en/stable/examples/Notebook/Notebook%20Basics.html)\n",
    "* Client/Server app\n",
    "  * Server is a language kernel (or kernels) running somewhere else\n",
    "  * Client is a collection if Input and Ouput Cells (notice the [##])\n",
    "* When cells with code are evaluated (Shift-Enter) the code gets sent to the kernel\n",
    "* The kernel sends back results which gets displayed as an output cell\n"
   ]
  },
  {
   "cell_type": "markdown",
   "metadata": {},
   "source": [
    "Shift-Enter, the following cells. Let's start with a traditional \"Hello World\""
   ]
  },
  {
   "cell_type": "code",
   "execution_count": null,
   "metadata": {},
   "outputs": [],
   "source": [
    "print(\"Hello World\")"
   ]
  },
  {
   "cell_type": "markdown",
   "metadata": {},
   "source": [
    "If the last line of an input cell returns an object (most things in python are objects) then the notebook will give the text representation of that object in the output area _and_ give it a reference `Out[XX]`."
   ]
  },
  {
   "cell_type": "code",
   "execution_count": null,
   "metadata": {},
   "outputs": [],
   "source": [
    "1+1"
   ]
  },
  {
   "cell_type": "markdown",
   "metadata": {},
   "source": [
    "The input and output make up your command history. You can reference things as you work. To see what is in your command history enter `%history` in a cell and execute it, use the `-n` argument to get the line numbers "
   ]
  },
  {
   "cell_type": "code",
   "execution_count": null,
   "metadata": {},
   "outputs": [],
   "source": [
    "%history -n"
   ]
  },
  {
   "cell_type": "markdown",
   "metadata": {},
   "source": [
    "### Editing Cells - Cut/Copy/Paste etc.\n",
    "\n",
    "Take a look at the actions available to you in the menu bar.\n",
    "\n",
    "Notebooks are just a collection of cells, and at any one time only one cell will have focus in your browser (marked by a green outline). When a cell has focus the notebook will be in one of two modes: `Edit mode` or `Command mode`. In edit mode you can modify the cell contents while in `Command mode` you the key combinations you enter will be interpreted as commands. Command mode is pretty powerful, allowing you to cut/copy/paste cells, split existing cells & much more. Enter `Command mode` and press `h` to display a help overlay. If you are in command mode (no cursor) you can press enter to go into `Edit mode` on the cell with focus. One (well two) particularly useful command is to insert a new cell either above or below the current cell. In command mode `a` will place a new cell `a`bove your current cell, while `b` will place one `b`elow the cell. Try it. The same functionality is (mostly) available in the menu, but the keyboard shortcuts will make your life easier as you get more familiar.\n",
    "\n"
   ]
  },
  {
   "cell_type": "code",
   "execution_count": null,
   "metadata": {},
   "outputs": [],
   "source": [
    "# Exercise: This cell will waste 100s of your time! Find a keyboard shortcut to interupt it!\n",
    "import time\n",
    "time.sleep(100)"
   ]
  },
  {
   "cell_type": "markdown",
   "metadata": {},
   "source": [
    "## Getting Help\n",
    "\n",
    "The notebook also gives you easy access to documentation and even source code for functions, objects, modules etc. To access is you can either wrap the object you are interested in with help() or, more commonly, put a question mark after the object. e.g. to find out about the python 3 `range` keyword, put `range?` in an empty cell and execute it"
   ]
  },
  {
   "cell_type": "code",
   "execution_count": null,
   "metadata": {},
   "outputs": [],
   "source": [
    "range?"
   ]
  },
  {
   "cell_type": "markdown",
   "metadata": {},
   "source": [
    "When the cell is executed it should open a help window as a horizontal split. You can read the documentation for the range function to understand how it works. This is really useful for methods or functions in modules which support lots of arguments (`pandas.read_csv` leaps to mind...). If you need more information you can add another question mark to see the source code of the function (when available)."
   ]
  },
  {
   "cell_type": "code",
   "execution_count": null,
   "metadata": {},
   "outputs": [],
   "source": [
    "import pandas as pd"
   ]
  },
  {
   "cell_type": "code",
   "execution_count": null,
   "metadata": {},
   "outputs": [],
   "source": [
    "pd.read_csv??"
   ]
  },
  {
   "cell_type": "markdown",
   "metadata": {},
   "source": [
    "#### Tab completion\n",
    "\n",
    "Pressing tab to get avaialble completions is available in almost every system you will use and Jupyter is no different. It can let you expore module contents, grab difficult to remember function names and a lot more. Try `from numpy.random import <TAB>` to see some of what is available inside the numpy module (we'll come back to numpy in gory detail later!)\n"
   ]
  },
  {
   "cell_type": "code",
   "execution_count": null,
   "metadata": {},
   "outputs": [],
   "source": [
    "from numpy.random import "
   ]
  },
  {
   "cell_type": "markdown",
   "metadata": {},
   "source": [
    "## Markdown\n",
    "\n",
    "Markdown is a lightweight mark*up*, plain text language which is widely used \n",
    "\n",
    "* hackmd.io\n",
    "* github.com / gist.github.com <- Also natively render entire notebooks!\n",
    "* Jupyter - [documentation]\n",
    "* Jekyll/Hugo,\n",
    "* pandoc\n",
    "* ...\n",
    "\n",
    "It is very small, so it is easy to pick up, but it is well structured and can be usefully converted into a large number of useful formats. In most flavours it supports lists, headings, tables, code blocks, images etc. and within Jupyter you can also use $\\LaTeX$, and because we are in a browser you can also render images and other elements\n",
    "\n",
    "![Jupyter Logo](https://jupyter.org/assets/main-logo.svg)\n",
    "\n",
    "With Markdown, you can handle\n",
    "  * Headings: - #, ##, ###, ...\n",
    "  * LaTeX Code: - inline between `$` symbols, or \"equation mode\" between `$$`\n",
    "  * Embedded code blocks: - use single or triple tics: `` ` `` or ```` ``` ```` (also syntax higlighting)\n",
    "  * Tables: |---|---|--| etc \n",
    "  * General HTML: (`<img>, <video>` etc\n",
    "  * Links to local & remote files `[name of link](source of link, e.g. https://www.westgrid.ca)`\n"
   ]
  },
  {
   "cell_type": "markdown",
   "metadata": {},
   "source": [
    "**Exercise**: Write a markdown cell describing your research, give it a heading, subheading and a list of your interests. Try to add some links to sources describing your research interests in words small enough for me to understand."
   ]
  },
  {
   "cell_type": "code",
   "execution_count": null,
   "metadata": {},
   "outputs": [],
   "source": []
  },
  {
   "cell_type": "markdown",
   "metadata": {},
   "source": [
    "Your browser and Jupyter actually support a much richer set of display elements. Have a look at the items you can import from `IPython.display`, there's even a YoutubeVideo element (V0D2mhVt7NE)"
   ]
  },
  {
   "cell_type": "code",
   "execution_count": null,
   "metadata": {},
   "outputs": [],
   "source": [
    "from IPython.display import YouTubeVideo\n",
    "YouTubeVideo('V0D2mhVt7NE')"
   ]
  },
  {
   "cell_type": "markdown",
   "metadata": {},
   "source": [
    "### Widgets & Interaction\n",
    "\n",
    "The notebook supports the concept of widgets. Widgets will typically give you some input element (select list, text box, radio buttons, sliders etc.) which you can connect to your code. See [the documentation](https://ipywidgets.readthedocs.io/en/stable/) for some more exciting examples"
   ]
  },
  {
   "cell_type": "code",
   "execution_count": null,
   "metadata": {},
   "outputs": [],
   "source": [
    "from ipywidgets import interact, interactive, fixed, interact_manual\n",
    "import ipywidgets as widgets"
   ]
  },
  {
   "cell_type": "code",
   "execution_count": null,
   "metadata": {},
   "outputs": [],
   "source": [
    "def double(x):\n",
    "    return 2 * x"
   ]
  },
  {
   "cell_type": "code",
   "execution_count": null,
   "metadata": {},
   "outputs": [],
   "source": [
    "interact(double, x=5)"
   ]
  },
  {
   "cell_type": "markdown",
   "metadata": {},
   "source": [
    "interact is making some guesses about reasonable parameter ranges then connecting a little chunk of javascript to our (python) kernel. When we move the slider, the widget sends the new value to our double function and gets the result back. We'll come back to widgets once we know a little bit more python"
   ]
  },
  {
   "cell_type": "markdown",
   "metadata": {},
   "source": [
    "## Running System Commands\n",
    "\n",
    "I *think* you had an introduction to the Linux CLI last week. You can run many of these directly from the notebook interface by prefixing them with an exclaimation mark `!`, e.g. `date`"
   ]
  },
  {
   "cell_type": "code",
   "execution_count": null,
   "metadata": {},
   "outputs": [],
   "source": [
    "!date"
   ]
  },
  {
   "cell_type": "markdown",
   "metadata": {},
   "source": [
    "This will run the command in a shell on whichever machine your notebook server is running. Try running `!ls` to see a directory listing or `uname -a` to see some information about the machine. If you're surprised by the output, think through where the notebook server is actually running. One more gotcha, try changing directory with `cd ..`, what does `pwd` say?\n",
    "\n",
    "Each command is executed in a subshell so the `cd` didn't \"take\". If you actually wanted to change directories you could do `%cd`. For the same reason you'll find shadow magic commands for some other common utilities `%mkdir`, `%cp` etc. Until you are familiar with them it's worth checking the help before running anything which will make a change!"
   ]
  },
  {
   "cell_type": "markdown",
   "metadata": {},
   "source": [
    "Going a litte further we can capture the output of the commands by assignment, e.g."
   ]
  },
  {
   "cell_type": "code",
   "execution_count": null,
   "metadata": {},
   "outputs": [],
   "source": [
    "images = !ls images\n",
    "images"
   ]
  },
  {
   "cell_type": "markdown",
   "metadata": {},
   "source": [
    "We get a list (actually we get an IPython.utils.text.SList, check the documentation if you're interested in the difference). We can then do things with the result, e.g. translate all of the filenames to uppercase"
   ]
  },
  {
   "cell_type": "code",
   "execution_count": null,
   "metadata": {},
   "outputs": [],
   "source": [
    "for image in images:\n",
    "    print(image.upper())"
   ]
  },
  {
   "cell_type": "markdown",
   "metadata": {},
   "source": [
    "## Magics\n",
    "\n",
    "IPython has a rich library of so called \"[magic](https://ipython.readthedocs.io/en/stable/interactive/magics.html)\" functions. They are a part of IPython (not Python) so you can only use them in an interactive setting. All of them start with a percent sign and you can get a list of them using `%lsmagic`. You can also use the question mark `?` to get help on the magic commands.\n",
    "\n",
    "* %timeit\n",
    "* %time\n",
    "* %profile\n",
    "* %pastebin"
   ]
  },
  {
   "cell_type": "code",
   "execution_count": null,
   "metadata": {},
   "outputs": [],
   "source": [
    "%lsmagic"
   ]
  },
  {
   "cell_type": "code",
   "execution_count": null,
   "metadata": {},
   "outputs": [],
   "source": [
    "%history -n"
   ]
  },
  {
   "cell_type": "code",
   "execution_count": null,
   "metadata": {},
   "outputs": [],
   "source": [
    "%pastebin 3"
   ]
  },
  {
   "cell_type": "code",
   "execution_count": null,
   "metadata": {},
   "outputs": [],
   "source": [
    "%pdb"
   ]
  },
  {
   "cell_type": "code",
   "execution_count": null,
   "metadata": {},
   "outputs": [],
   "source": []
  }
 ],
 "metadata": {
  "kernelspec": {
   "display_name": "Python 3",
   "language": "python",
   "name": "python3"
  },
  "language_info": {
   "codemirror_mode": {
    "name": "ipython",
    "version": 3
   },
   "file_extension": ".py",
   "mimetype": "text/x-python",
   "name": "python",
   "nbconvert_exporter": "python",
   "pygments_lexer": "ipython3",
   "version": "3.7.6"
  }
 },
 "nbformat": 4,
 "nbformat_minor": 2
}
