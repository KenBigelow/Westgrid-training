{
 "cells": [
  {
   "cell_type": "markdown",
   "metadata": {},
   "source": [
    "## Sympy and Widgets\n",
    "\n",
    "Sympy is a google project to build a module for symbolic mathematics (think Mathematica, Maple, Maxima etc.). It supports\n",
    "\n",
    "* Basic arithmetic: *, /, +, -, **\n",
    "* Simplification\n",
    "* Expansion\n",
    "* Functions: trigonometric, hyperbolic, exponential, roots, logarithms, absolute value, spherical harmonics, factorials and gamma functions, zeta functions, polynomials, hypergeometric, special functions, ...\n",
    "* Substitution\n",
    "* Arbitrary precision integers, rationals and floats\n",
    "* Noncommutative symbols\n",
    "* Pattern matching\n",
    "\n",
    "and it has modules for dealing with calculus, polynomials, discrete math, equation solving, geometry, combinartorics and much more. While not strictly a numerical package, it is increasingly used in other modules to provide the mathematical thinking behind generating _efficent_ instructions for numerical packages like numpy.\n",
    "\n",
    "In the notebook we have access to great rendering capabilities so we can get pretty nice mathematical output from sympy just by asking..."
   ]
  },
  {
   "cell_type": "code",
   "execution_count": null,
   "metadata": {},
   "outputs": [],
   "source": [
    "import sympy as sy\n",
    "from sympy import init_printing\n",
    "\n",
    "init_printing()"
   ]
  },
  {
   "cell_type": "markdown",
   "metadata": {},
   "source": [
    "Sympy normally operates on 'symbols', which you can bind to ordinary python variables, they are simple to generate"
   ]
  },
  {
   "cell_type": "code",
   "execution_count": null,
   "metadata": {},
   "outputs": [],
   "source": [
    "from sympy import symbols\n",
    "\n",
    "x, y = symbols('x y')\n",
    "type(x)"
   ]
  },
  {
   "cell_type": "code",
   "execution_count": null,
   "metadata": {},
   "outputs": [],
   "source": [
    "x * y"
   ]
  },
  {
   "cell_type": "markdown",
   "metadata": {},
   "source": [
    "A lot of the functionality (e.g. functions like `sin`) are available at the top level of the namespace (have a look at `sy.<TAB>`). You'll commonly see people do `from sympy import *`. This makes everything available to you, but it pollutes your namespace so we'll stick to explicitly giving the module alias (`sy.sin` etc.)"
   ]
  },
  {
   "cell_type": "code",
   "execution_count": null,
   "metadata": {},
   "outputs": [],
   "source": [
    "sy.cos(x)"
   ]
  },
  {
   "cell_type": "code",
   "execution_count": null,
   "metadata": {},
   "outputs": [],
   "source": [
    "expr = sy.cos(x) - sy.sin(y)\n",
    "expr"
   ]
  },
  {
   "cell_type": "markdown",
   "metadata": {},
   "source": [
    "### Substitution\n",
    "\n",
    "`expr` is now an expression and one common thing you will need to do with expressions is substitute values for your symbols. The `subs` method can do this for you, just pass tuples with the substitution values (or a list of tuples)"
   ]
  },
  {
   "cell_type": "code",
   "execution_count": null,
   "metadata": {},
   "outputs": [],
   "source": [
    "expr.subs(x, 1)"
   ]
  },
  {
   "cell_type": "code",
   "execution_count": null,
   "metadata": {},
   "outputs": [],
   "source": [
    "expr.subs(y, x)"
   ]
  },
  {
   "cell_type": "code",
   "execution_count": null,
   "metadata": {},
   "outputs": [],
   "source": [
    "expr.subs([(x, 0), (y, sy.pi/4)])"
   ]
  },
  {
   "cell_type": "markdown",
   "metadata": {},
   "source": [
    "If you really need a floating point number, you can use the evalf method"
   ]
  },
  {
   "cell_type": "code",
   "execution_count": null,
   "metadata": {},
   "outputs": [],
   "source": [
    "expr.evalf(subs={x: sy.pi/3, y:3})"
   ]
  },
  {
   "cell_type": "markdown",
   "metadata": {},
   "source": [
    "### Algebra\n",
    "\n",
    "There are functions for expanding, factoring, simplifying, collecting terms etc."
   ]
  },
  {
   "cell_type": "code",
   "execution_count": null,
   "metadata": {},
   "outputs": [],
   "source": [
    "a = (x+3)*(x-2)\n",
    "a.expand()"
   ]
  },
  {
   "cell_type": "code",
   "execution_count": null,
   "metadata": {},
   "outputs": [],
   "source": [
    "sy.simplify(sy.sin(x)**2 + sy.cos(x)**2)"
   ]
  },
  {
   "cell_type": "markdown",
   "metadata": {},
   "source": [
    "**EXERCISE**: \n",
    " * Try simplifying\n",
    "$$\n",
    "\\frac{x^3 - 2x^2 -5x + 6}{x^2-4x+3}\n",
    "$$\n",
    " * Use `.factor()` to factorize\n",
    "$$\n",
    "2x^4+x^3 - 33x^2 - 16x +16\n",
    "$$"
   ]
  },
  {
   "cell_type": "code",
   "execution_count": null,
   "metadata": {},
   "outputs": [],
   "source": [
    "expr2 = (x**2-1) / (x+1)\n",
    "expr2"
   ]
  },
  {
   "cell_type": "code",
   "execution_count": null,
   "metadata": {},
   "outputs": [],
   "source": [
    "expr2.cancel()"
   ]
  },
  {
   "cell_type": "markdown",
   "metadata": {},
   "source": [
    "`simplify()` will miss some simplifications, but there is [extensive documentation](https://docs.sympy.org/latest/tutorial/simplification.html) on giving it a hand."
   ]
  },
  {
   "cell_type": "markdown",
   "metadata": {},
   "source": [
    "## Solving Simultaneous Equations\n",
    "\n",
    "Sympy as a `solveset` routine which can help you simple equations. One gotcha with this is that you might expect to write an equation as e.g. `x**2 + 2x == -1`, but this will evaluate to False (try it). To get around this sympy as an `Eq` function for equality (an alternative is to rearrange things so that your equations are equal to zero (e.g `x**2 + 2*x - 1`)"
   ]
  },
  {
   "cell_type": "code",
   "execution_count": null,
   "metadata": {},
   "outputs": [],
   "source": [
    "sy.Eq(x**2 + 2*x, -1)"
   ]
  },
  {
   "cell_type": "markdown",
   "metadata": {},
   "source": [
    "To use solveset, just pass it an equation and (optionally) the variable you want to solve for"
   ]
  },
  {
   "cell_type": "code",
   "execution_count": null,
   "metadata": {},
   "outputs": [],
   "source": [
    "sy.solveset(sy.Eq(x**2,-1), x)"
   ]
  },
  {
   "cell_type": "markdown",
   "metadata": {},
   "source": [
    "So there are two solutions, $x=i$, & $x=-i$. By passing the `domain=` argument you can restrict solutions to a specific domain (e.g. $\\mathbb{R}$ or $\\mathbb{C}$)"
   ]
  },
  {
   "cell_type": "markdown",
   "metadata": {},
   "source": [
    "For systems of linear equations there is linsolve which takes a list of equations and a tuple of the variables to solve for"
   ]
  },
  {
   "cell_type": "code",
   "execution_count": null,
   "metadata": {},
   "outputs": [],
   "source": [
    "sy.linsolve([sy.Eq(x + 3 * y, 1), sy.Eq(y, 3)], (x, y))"
   ]
  },
  {
   "cell_type": "code",
   "execution_count": null,
   "metadata": {},
   "outputs": [],
   "source": [
    "sy.solveset(sy.Eq(x**2,-1), x, domain=sy.Reals)"
   ]
  },
  {
   "cell_type": "markdown",
   "metadata": {},
   "source": [
    "## Calculus\n",
    "\n",
    "### Derivatives\n",
    "\n",
    "sympy has lots of features for doing calculus. For simple differentiation sympy expressions have a `.diff()` method. You pass the variables you need to differentiate with respect to."
   ]
  },
  {
   "cell_type": "code",
   "execution_count": null,
   "metadata": {},
   "outputs": [],
   "source": [
    "sy.cos(x).diff(x)"
   ]
  },
  {
   "cell_type": "markdown",
   "metadata": {},
   "source": [
    "**TODO**: Try differentiating\n",
    "$$\n",
    "\\frac{(1 + 2x^2)(x^3-x)^2}{\\sqrt{x+5x^2}}\n",
    "$$\n",
    "Hint: You'll need `sy.sqrt()`"
   ]
  },
  {
   "cell_type": "markdown",
   "metadata": {},
   "source": [
    "There is a Derivative object which will let you create a derivative but delay evaluating it (this is more useful that it sounds, sometimes you'll want to massage the resulting expressions a bit before evaluating)."
   ]
  },
  {
   "cell_type": "code",
   "execution_count": null,
   "metadata": {},
   "outputs": [],
   "source": [
    "expr2 = sy.Derivative(sy.cos(x), x)\n",
    "expr2"
   ]
  },
  {
   "cell_type": "markdown",
   "metadata": {},
   "source": [
    "When you're ready you can `doit()`"
   ]
  },
  {
   "cell_type": "code",
   "execution_count": null,
   "metadata": {},
   "outputs": [],
   "source": [
    "expr2.doit()"
   ]
  },
  {
   "cell_type": "markdown",
   "metadata": {},
   "source": [
    "### Integrals\n",
    "\n",
    "Integrals are much harder to deal with systematically, but sympy does a pretty good job"
   ]
  },
  {
   "cell_type": "code",
   "execution_count": null,
   "metadata": {},
   "outputs": [],
   "source": [
    "sy.integrate(expr, x)"
   ]
  },
  {
   "cell_type": "markdown",
   "metadata": {},
   "source": [
    "You can also evaluate definite integrals, `oo` is sympy's notation for $\\infty$"
   ]
  },
  {
   "cell_type": "code",
   "execution_count": null,
   "metadata": {},
   "outputs": [],
   "source": [
    "sy.integrate(sy.exp(-x), (x, 0, 'oo'))"
   ]
  },
  {
   "cell_type": "markdown",
   "metadata": {},
   "source": [
    "You can do multidimensional integrals with the same syntax we used to do multiple derrivatives. Similar to the `Derivative` object, we can delay the evaluation of the integral with the `Integral` object."
   ]
  },
  {
   "cell_type": "code",
   "execution_count": null,
   "metadata": {},
   "outputs": [],
   "source": [
    "expr3 = sy.Integral(sy.exp(-x**2-y**2), (x, 0, 'oo'), (y, 0, 'oo'))\n",
    "expr3"
   ]
  },
  {
   "cell_type": "code",
   "execution_count": null,
   "metadata": {},
   "outputs": [],
   "source": [
    "expr3.doit()"
   ]
  },
  {
   "cell_type": "markdown",
   "metadata": {},
   "source": [
    "If sympy doesn't know how to evaluate an integral it will just return an `Integral` object which you can then work with to try to get it to evaluate, e.g. you can add assumptions on variable domains etc."
   ]
  },
  {
   "cell_type": "markdown",
   "metadata": {},
   "source": [
    "## Series\n",
    "\n",
    "For numerical a fairly common pattern is to have some expression which you can't evaluate exactly, but which you can approximate with some finite number of terms. Function objects in sympy have a series method which will let you calculate a taylor series expansion of the function"
   ]
  },
  {
   "cell_type": "code",
   "execution_count": null,
   "metadata": {},
   "outputs": [],
   "source": [
    "sxx = (sy.sin(x)/x).series(x, x0=0, n=12)\n",
    "sxx"
   ]
  },
  {
   "cell_type": "markdown",
   "metadata": {},
   "source": [
    "This is accurate up to $O(x^{12})$. You can extract individual terms you might need"
   ]
  },
  {
   "cell_type": "code",
   "execution_count": null,
   "metadata": {},
   "outputs": [],
   "source": [
    "sxx.coeff(x**6).as_terms()"
   ]
  },
  {
   "cell_type": "code",
   "execution_count": null,
   "metadata": {},
   "outputs": [],
   "source": [
    "import sympy as sy\n",
    "x = sy.symbols('x')\n",
    "from ipywidgets import interact, interactive, fixed, interact_manual\n",
    "\n",
    "from IPython.display import display, clear_output\n",
    "from ipywidgets import widgets\n",
    "\n",
    "def ftaylor(n):\n",
    "    return (sy.sin(x)/x).series(x, x0=0, n=n)\n",
    "\n",
    "fresult = interact(ftaylor, n=widgets.IntSlider(min=2,max=20,step=1,value=4));"
   ]
  },
  {
   "cell_type": "markdown",
   "metadata": {},
   "source": [
    "So, we do the same thing visually with matplotlib, looking at how good our series approximation is compared to the exact value"
   ]
  },
  {
   "cell_type": "code",
   "execution_count": null,
   "metadata": {},
   "outputs": [],
   "source": [
    "import matplotlib.pyplot as plt\n",
    "%matplotlib inline\n",
    "plt.rcParams['figure.figsize'] = (16, 12)\n",
    "import numpy as np\n",
    "\n",
    "def taylorApprx(n):\n",
    "    clear_output(wait=True)\n",
    "    func = sy.sin(x)/x\n",
    "    taylor = sy.series(func, n=n).removeO()\n",
    "    \n",
    "    evalfunc = sy.lambdify(x, func, modules=['numpy'])\n",
    "    evaltaylor = sy.lambdify(x, taylor, modules=['numpy'])\n",
    "    \n",
    "    t = np.linspace(-5.5, 5.5, 100)\n",
    "    fig, ax = plt.subplots(1, figsize=(16,10))\n",
    "    ax.plot(t, evalfunc(t), 'b', label='sin(x)/x')\n",
    "    ax.plot(t, evaltaylor(t), 'r', label='{0} order appx.'.format(n))\n",
    "    ax.legend(loc='best')\n",
    "    sy.latex(taylor)\n",
    "    plt.show()\n",
    "    return taylor\n",
    "\n",
    "a=widgets.interactive(taylorApprx, n=widgets.IntSlider(min=3,max=20,step=1,value=4))\n",
    "display(a)"
   ]
  },
  {
   "cell_type": "markdown",
   "metadata": {},
   "source": [
    "## Other examples\n",
    "\n",
    "With a little bit more effort you can produce much richer interfaces. The example below is adapted from the [IPython Cookbook](https://ipython-books.github.io/)."
   ]
  },
  {
   "cell_type": "code",
   "execution_count": null,
   "metadata": {},
   "outputs": [],
   "source": [
    "import ipywidgets as widgets\n",
    "from ipywidgets import HBox, VBox"
   ]
  },
  {
   "cell_type": "code",
   "execution_count": null,
   "metadata": {},
   "outputs": [],
   "source": [
    "freq_slider = widgets.FloatSlider(\n",
    "    value=2.,\n",
    "    min=1.,\n",
    "    max=10.0,\n",
    "    step=0.1,\n",
    "    description='Frequency:',\n",
    "    readout_format='.1f',\n",
    ")"
   ]
  },
  {
   "cell_type": "code",
   "execution_count": null,
   "metadata": {},
   "outputs": [],
   "source": [
    "range_slider = widgets.FloatRangeSlider(\n",
    "    value=[-1., +1.],\n",
    "    min=-5., max=+5., step=0.1,\n",
    "    description='xlim:',\n",
    "    readout_format='.1f',\n",
    ")"
   ]
  },
  {
   "cell_type": "code",
   "execution_count": null,
   "metadata": {},
   "outputs": [],
   "source": [
    "grid_button = widgets.ToggleButton(\n",
    "    value=False,\n",
    "    description='Grid',\n",
    "    icon='check'\n",
    ")"
   ]
  },
  {
   "cell_type": "code",
   "execution_count": null,
   "metadata": {},
   "outputs": [],
   "source": [
    "button = widgets.Button(\n",
    "    description='Plot',\n",
    ")"
   ]
  },
  {
   "cell_type": "code",
   "execution_count": null,
   "metadata": {},
   "outputs": [],
   "source": [
    "color_buttons = widgets.ToggleButtons(\n",
    "    options=['blue', 'red', 'green'],\n",
    "    description='Color:',\n",
    ")"
   ]
  },
  {
   "cell_type": "code",
   "execution_count": null,
   "metadata": {},
   "outputs": [],
   "source": [
    "title_textbox = widgets.Text(\n",
    "    value='Hello World',\n",
    "    description='Title:',\n",
    ")"
   ]
  },
  {
   "cell_type": "code",
   "execution_count": null,
   "metadata": {},
   "outputs": [],
   "source": [
    "color_picker = widgets.ColorPicker(\n",
    "    concise=True,\n",
    "    description='Background color:',\n",
    "    value='#efefef',\n",
    ")"
   ]
  },
  {
   "cell_type": "code",
   "execution_count": null,
   "metadata": {},
   "outputs": [],
   "source": [
    "tab1 = VBox(children=[freq_slider,\n",
    "                      range_slider,\n",
    "                      ])\n",
    "tab2 = VBox(children=[color_buttons,\n",
    "                      HBox(children=[title_textbox,\n",
    "                                     color_picker,\n",
    "                                     grid_button]),\n",
    "                                     ])"
   ]
  },
  {
   "cell_type": "code",
   "execution_count": null,
   "metadata": {},
   "outputs": [],
   "source": [
    "# To prevent automatic figure display when execution of the cell ends\n",
    "%config InlineBackend.close_figures=False\n",
    "\n",
    "from ipywidgets import widgets\n",
    "from IPython.display import display,clear_output\n",
    "\n",
    "plt.ioff()\n",
    "ax=plt.gca()\n",
    "\n",
    "out=widgets.Output()\n",
    "\n",
    "tab = widgets.Tab(children=[tab1, tab2])\n",
    "tab.set_title(0, 'plot')\n",
    "tab.set_title(1, 'styling')\n",
    "vbox = VBox(children=[tab, button, out])\n",
    "\n",
    "display(vbox)\n",
    "\n",
    "def click(b):\n",
    "    ax.clear()\n",
    "\n",
    "    xlim = range_slider.value\n",
    "    freq = freq_slider.value\n",
    "    grid = grid_button.value\n",
    "    color = color_buttons.value\n",
    "    title = title_textbox\n",
    "    bgcolor = color_picker.value\n",
    "    \n",
    "    ax.clear()\n",
    "    \n",
    "    t = np.linspace(xlim[0], xlim[1], 1000)\n",
    "    ax.plot(t, np.sin(2 * np.pi * freq * t),\n",
    "            color=color)\n",
    "    ax.grid(grid)\n",
    "    ax.set_title(title_textbox.value)\n",
    "    ax.set_facecolor(color_picker.value)\n",
    "    \n",
    "    with out:\n",
    "        clear_output(wait=True)\n",
    "        display(ax.figure)\n",
    "\n",
    "button.on_click(click)\n",
    "click(None)"
   ]
  }
 ],
 "metadata": {
  "kernelspec": {
   "display_name": "Python 3",
   "language": "python",
   "name": "python3"
  },
  "language_info": {
   "codemirror_mode": {
    "name": "ipython",
    "version": 3
   },
   "file_extension": ".py",
   "mimetype": "text/x-python",
   "name": "python",
   "nbconvert_exporter": "python",
   "pygments_lexer": "ipython3",
   "version": "3.7.6"
  }
 },
 "nbformat": 4,
 "nbformat_minor": 2
}
