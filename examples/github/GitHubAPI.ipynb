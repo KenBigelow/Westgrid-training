{
 "cells": [
  {
   "cell_type": "code",
   "execution_count": null,
   "metadata": {},
   "outputs": [],
   "source": [
    "import configparser\n",
    "import getpass\n",
    "import os\n",
    "import requests"
   ]
  },
  {
   "cell_type": "code",
   "execution_count": null,
   "metadata": {},
   "outputs": [],
   "source": [
    "os.environ['GITHUB_USER'] = input('Github Username: ')"
   ]
  },
  {
   "cell_type": "code",
   "execution_count": null,
   "metadata": {},
   "outputs": [],
   "source": [
    "os.environ['GITHUB_API_KEY'] = getpass.getpass(prompt='GitHubAPI Key: ', stream=None)"
   ]
  },
  {
   "cell_type": "markdown",
   "metadata": {},
   "source": [
    "# Github API Requests\n",
    "\n",
    "In this notebook, we'll play a little bit with the [GitHub API](https://developer.github.com/v3/). When you are working with _any_ API, please pay attention to any [rate limiting](https://developer.github.com/v3/#rate-limiting) they have in place. Often providers will have different rate limits depending on whether or not you are authenticated.\n",
    "\n",
    "The two cells above will prompt you to put your some github accounts details. If you don't already have a GitHub API key, you can generate one for yourself [From here](https://github.com/settings/tokens). You should treat API keys securely, if they are leaked the will allow people to (ab)use your account. The nice thing about API keys is you can usually restrict how the can be used and you can delete them when they've served their purpose. \n",
    "\n",
    "For this notebook, we'll put our API keys into environment variables. These will be destroyed when our session ends.  If you just stored your keys as a python variables they would be storead along with your code, when you share your notebook with someone or post it to github, people would have access to your keys. More generally, it is a good idea to separate configuration from code and environment variables is one good way of doing that.\n",
    "\n",
    "Setting the variables every time you open this notebook can be irritating, but this is an _interactive_ tutorial, so we'll live with it. If you end up doing this a lot, there are modules (e.g. [configparser](https://docs.python.org/3/library/configparser.html)) which can help you manage them as files. Just make sure you set secure permissions on those files and never store them under version control (it's too easy to push to github!)"
   ]
  },
  {
   "cell_type": "code",
   "execution_count": null,
   "metadata": {},
   "outputs": [],
   "source": [
    "assert len(os.environ['GITHUB_USER']) > 0, \"Unset GitHub Username\"\n",
    "assert len(os.environ['GITHUB_API_KEY']) > 0, \"Unset GitHub Password\""
   ]
  },
  {
   "cell_type": "code",
   "execution_count": null,
   "metadata": {},
   "outputs": [],
   "source": [
    "payload = {'q': 'nbformat_minor+extension:ipynb'}\n",
    "resp = requests.get(\n",
    "    'https://api.github.com/search/code',\n",
    "    params=payload,\n",
    "    auth=(os.environ.get('GITHUB_USER'), os.environ.get('GITHUB_API_KEY'))\n",
    ")\n",
    "resp.raise_for_status()\n"
   ]
  },
  {
   "cell_type": "code",
   "execution_count": null,
   "metadata": {},
   "outputs": [],
   "source": [
    "resp.json()['total_count']"
   ]
  },
  {
   "cell_type": "markdown",
   "metadata": {},
   "source": [
    "Actually, [Peter Parente](`https://github.com/parente`) has been tracking this quantity for years, his data is available as a CSV, so with a little bit of pandas..."
   ]
  },
  {
   "cell_type": "code",
   "execution_count": null,
   "metadata": {},
   "outputs": [],
   "source": [
    "import pandas as pd\n",
    "import numpy as np\n",
    "import matplotlib.pyplot as plt\n",
    "%matplotlib inline"
   ]
  },
  {
   "cell_type": "code",
   "execution_count": null,
   "metadata": {},
   "outputs": [],
   "source": [
    "nbHitsDF = pd.read_csv(\n",
    "    'https://raw.githubusercontent.com/parente/nbestimate/master/ipynb_counts.csv',\n",
    "    parse_dates=['date'],\n",
    "    index_col='date'\n",
    ")\n",
    "nbHitsDF.tail()"
   ]
  },
  {
   "cell_type": "code",
   "execution_count": null,
   "metadata": {},
   "outputs": [],
   "source": [
    "nbHitsDF.plot(\n",
    "    markersize=10,\n",
    "    marker='+',\n",
    "    figsize=(16,10)\n",
    ")"
   ]
  },
  {
   "cell_type": "markdown",
   "metadata": {},
   "source": [
    "Looks like an exponential to me..."
   ]
  },
  {
   "cell_type": "code",
   "execution_count": null,
   "metadata": {},
   "outputs": [],
   "source": [
    "nbHitsDF['logHits'] = np.log(nbHitsDF['hits'])\n",
    "nbHitsDF['logHits'].plot(figsize=(16,10))"
   ]
  },
  {
   "cell_type": "markdown",
   "metadata": {},
   "source": [
    "OK, maybe just a little bit less than exponential, but still! There are probably better ways of doing this, but..."
   ]
  },
  {
   "cell_type": "code",
   "execution_count": null,
   "metadata": {},
   "outputs": [],
   "source": [
    "nbHitsDF['sinceStart'] = (nbHitsDF.index - nbHitsDF.index[0]).days"
   ]
  },
  {
   "cell_type": "code",
   "execution_count": null,
   "metadata": {},
   "outputs": [],
   "source": [
    "params = np.polyfit(nbHitsDF['sinceStart'], nbHitsDF['logHits'], 2)\n",
    "\n",
    "params"
   ]
  },
  {
   "cell_type": "code",
   "execution_count": null,
   "metadata": {},
   "outputs": [],
   "source": [
    "fig = plt.figure(figsize=(16,10))\n",
    "\n",
    "ax = fig.add_subplot(1, 1, 1)\n",
    "ax.plot(nbHitsDF['sinceStart'], nbHitsDF['logHits'])\n",
    "ax.plot(\n",
    "    nbHitsDF['sinceStart'], \n",
    "    params[2] + nbHitsDF['sinceStart'] * (params[1] + nbHitsDF['sinceStart'] * params[0])\n",
    ")"
   ]
  },
  {
   "cell_type": "markdown",
   "metadata": {},
   "source": [
    "**TODO**: Try to figure out when GitHub will have more than 8M notebooks"
   ]
  },
  {
   "cell_type": "markdown",
   "metadata": {},
   "source": [
    "## User endpoint\n",
    "\n",
    "The endpoint for user repositories is https://api.github.com/users/<username>/repos. Let's see what repositories we can find, (try your own github username if you like)"
   ]
  },
  {
   "cell_type": "code",
   "execution_count": null,
   "metadata": {},
   "outputs": [],
   "source": [
    "payload = {'sort': 'push'}\n",
    "resp = requests.get(\n",
    "    'https://api.github.com/users/torvalds/repos',\n",
    "    params=payload,\n",
    "    auth=(os.environ.get('GITHUB_USER'), os.environ.get('GITHUB_API_KEY'))\n",
    ")\n",
    "resp.raise_for_status()"
   ]
  },
  {
   "cell_type": "code",
   "execution_count": null,
   "metadata": {},
   "outputs": [],
   "source": [
    "torvaldsDF = pd.read_json(resp.text)\n",
    "torvaldsDF"
   ]
  },
  {
   "cell_type": "markdown",
   "metadata": {},
   "source": [
    "**TODO**: See if you can extract linus' public key!"
   ]
  },
  {
   "cell_type": "code",
   "execution_count": null,
   "metadata": {},
   "outputs": [],
   "source": [
    "resp = requests.get(\n",
    "    'https://api.github.com/users/torvalds/keys',\n",
    "    auth=(os.environ.get('GITHUB_USER'), os.environ.get('GITHUB_API_KEY'))\n",
    ")\n",
    "resp.raise_for_status()\n",
    "pd.read_json(resp.text)"
   ]
  },
  {
   "cell_type": "markdown",
   "metadata": {},
   "source": [
    "## Other Endpoints\n",
    "\n",
    "There are [lots of other interesting endpoints](https://developer.github.com/v3) to play with, here are some of the more interesting ones:\n",
    "\n",
    "  * [Collaborators](https://developer.github.com/v3/repos/collaborators/)\n",
    "  * [Repositories](https://developer.github.com/v3/repos) - List repos, create new ones etc.\n",
    "    * [Commits](https://developer.github.com/v3/repos/commits/) - examine past commits\n",
    "    * [Statistics](https://developer.github.com/v3/repos/statistics/) - repository stats, who commits most often etc.\n",
    "  * [Search](https://developer.github.com/v3/search/) - Find all the data\n",
    "    * [Commits](https://developer.github.com/v3/search/#search-commits)\n",
    "    * [Users](https://developer.github.com/v3/search/#search-users)\n",
    "    * [Repositories](https://developer.github.com/v3/search/#search-repositories)\n",
    "    * [Issues](https://developer.github.com/v3/search/#search-issues-and-pull-requests)\n",
    "  * [Pull Requests](https://developer.github.com/v3/pulls/) - Creation and merge PRs automatically!\n",
    "  \n",
    "  \n",
    "I'd _strongly_ recommend sticking to the GET methods until you are comfortable, but once you are ready, the (requests)[https://2.python-requests.org/en/master/] module has all of the options you need to make POST/PUT/DELETE requests to make changes.\n"
   ]
  }
 ],
 "metadata": {
  "kernelspec": {
   "display_name": "Python 3",
   "language": "python",
   "name": "python3"
  },
  "language_info": {
   "codemirror_mode": {
    "name": "ipython",
    "version": 3
   },
   "file_extension": ".py",
   "mimetype": "text/x-python",
   "name": "python",
   "nbconvert_exporter": "python",
   "pygments_lexer": "ipython3",
   "version": "3.7.6"
  }
 },
 "nbformat": 4,
 "nbformat_minor": 2
}
