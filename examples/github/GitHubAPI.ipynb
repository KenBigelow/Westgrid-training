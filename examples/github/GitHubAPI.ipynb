{
 "cells": [
  {
   "cell_type": "code",
   "execution_count": 1,
   "metadata": {},
   "outputs": [],
   "source": [
    "import configparser\n",
    "import getpass\n",
    "import os\n",
    "import requests"
   ]
  },
  {
   "cell_type": "code",
   "execution_count": 2,
   "metadata": {},
   "outputs": [
    {
     "name": "stdout",
     "output_type": "stream",
     "text": [
      "Github Username: ianabc\n"
     ]
    }
   ],
   "source": [
    "os.environ['GITHUB_USER'] = input('Github Username: ')"
   ]
  },
  {
   "cell_type": "code",
   "execution_count": 4,
   "metadata": {},
   "outputs": [
    {
     "name": "stdout",
     "output_type": "stream",
     "text": [
      "GitHubAPI Key: ········\n"
     ]
    }
   ],
   "source": [
    "os.environ['GITHUB_API_KEY'] = getpass.getpass(prompt='GitHubAPI Key: ', stream=None)"
   ]
  },
  {
   "cell_type": "markdown",
   "metadata": {},
   "source": [
    "# Github API Requests\n",
    "\n",
    "In this notebook, we'll play a little bit with the [GitHub API](https://developer.github.com/v3/). When you are working with _any_ API, please pay attention to any [rate limiting](https://developer.github.com/v3/#rate-limiting) they have in place. Often providers will have different rate limits depending on whether or not you are authenticated.\n",
    "\n",
    "The two cells above will prompt you to put your some github accounts details. If you don't already have a GitHub API key, you can generate one for yourself [From here](https://github.com/settings/tokens). You should treat API keys securely, if they are leaked the will allow people to (ab)use your account. The nice thing about API keys is you can usually restrict how the can be used and you can delete them when they've served their purpose. \n",
    "\n",
    "For this notebook, we'll put our API keys into environment variables. These will be destroyed when our session ends.  If you just stored your keys as a python variables they would be storead along with your code, when you share your notebook with someone or post it to github, people would have access to your keys. More generally, it is a good idea to separate configuration from code and environment variables is one good way of doing that.\n",
    "\n",
    "Setting the variables every time you open this notebook can be irritating, but this is an _interactive_ tutorial, so we'll live with it. If you end up doing this a lot, there are modules (e.g. [configparser](https://docs.python.org/3/library/configparser.html)) which can help you manage them as files. Just make sure you set secure permissions on those files and never store them under version control (it's too easy to push to github!)"
   ]
  },
  {
   "cell_type": "code",
   "execution_count": 5,
   "metadata": {},
   "outputs": [],
   "source": [
    "assert len(os.environ['GITHUB_USER']) > 0, \"Unset GitHub Username\"\n",
    "assert len(os.environ['GITHUB_API_KEY']) > 0, \"Unset GitHub Password\""
   ]
  },
  {
   "cell_type": "code",
   "execution_count": 6,
   "metadata": {},
   "outputs": [],
   "source": [
    "payload = {'q': 'nbformat_minor+extension:ipynb'}\n",
    "resp = requests.get(\n",
    "    'https://api.github.com/search/code',\n",
    "    params=payload,\n",
    "    auth=(os.environ.get('GITHUB_USER'), os.environ.get('GITHUB_API_KEY'))\n",
    ")\n",
    "resp.raise_for_status()\n"
   ]
  },
  {
   "cell_type": "code",
   "execution_count": 7,
   "metadata": {},
   "outputs": [
    {
     "data": {
      "text/plain": [
       "7740605"
      ]
     },
     "execution_count": 7,
     "metadata": {},
     "output_type": "execute_result"
    }
   ],
   "source": [
    "resp.json()['total_count']"
   ]
  },
  {
   "cell_type": "markdown",
   "metadata": {},
   "source": [
    "Actually, [Peter Parente](`https://github.com/parente`) has been tracking this quantity for years, his data is available as a CSV, so with a little bit of pandas..."
   ]
  },
  {
   "cell_type": "code",
   "execution_count": 8,
   "metadata": {},
   "outputs": [],
   "source": [
    "import pandas as pd\n",
    "import numpy as np\n",
    "import matplotlib.pyplot as plt\n",
    "%matplotlib inline"
   ]
  },
  {
   "cell_type": "code",
   "execution_count": 11,
   "metadata": {},
   "outputs": [
    {
     "data": {
      "text/html": [
       "<div>\n",
       "<style scoped>\n",
       "    .dataframe tbody tr th:only-of-type {\n",
       "        vertical-align: middle;\n",
       "    }\n",
       "\n",
       "    .dataframe tbody tr th {\n",
       "        vertical-align: top;\n",
       "    }\n",
       "\n",
       "    .dataframe thead th {\n",
       "        text-align: right;\n",
       "    }\n",
       "</style>\n",
       "<table border=\"1\" class=\"dataframe\">\n",
       "  <thead>\n",
       "    <tr style=\"text-align: right;\">\n",
       "      <th></th>\n",
       "      <th>hits</th>\n",
       "    </tr>\n",
       "    <tr>\n",
       "      <th>date</th>\n",
       "      <th></th>\n",
       "    </tr>\n",
       "  </thead>\n",
       "  <tbody>\n",
       "    <tr>\n",
       "      <th>2020-05-29</th>\n",
       "      <td>7729962</td>\n",
       "    </tr>\n",
       "    <tr>\n",
       "      <th>2020-05-30</th>\n",
       "      <td>7728313</td>\n",
       "    </tr>\n",
       "    <tr>\n",
       "      <th>2020-05-31</th>\n",
       "      <td>7738393</td>\n",
       "    </tr>\n",
       "    <tr>\n",
       "      <th>2020-06-01</th>\n",
       "      <td>7761755</td>\n",
       "    </tr>\n",
       "    <tr>\n",
       "      <th>2020-06-02</th>\n",
       "      <td>7775264</td>\n",
       "    </tr>\n",
       "  </tbody>\n",
       "</table>\n",
       "</div>"
      ],
      "text/plain": [
       "               hits\n",
       "date               \n",
       "2020-05-29  7729962\n",
       "2020-05-30  7728313\n",
       "2020-05-31  7738393\n",
       "2020-06-01  7761755\n",
       "2020-06-02  7775264"
      ]
     },
     "execution_count": 11,
     "metadata": {},
     "output_type": "execute_result"
    }
   ],
   "source": [
    "nbHitsDF = pd.read_csv(\n",
    "    'https://raw.githubusercontent.com/parente/nbestimate/master/ipynb_counts.csv',\n",
    "    parse_dates=['date'],\n",
    "    index_col='date'\n",
    ")\n",
    "nbHitsDF.tail()"
   ]
  },
  {
   "cell_type": "code",
   "execution_count": 16,
   "metadata": {},
   "outputs": [
    {
     "data": {
      "text/plain": [
       "<matplotlib.axes._subplots.AxesSubplot at 0x7fc4ce53dc10>"
      ]
     },
     "execution_count": 16,
     "metadata": {},
     "output_type": "execute_result"
    },
    {
     "data": {
      "image/png": "[encoded data removed]",
      "text/plain": [
       "<Figure size 1152x720 with 1 Axes>"
      ]
     },
     "metadata": {
      "needs_background": "light"
     },
     "output_type": "display_data"
    }
   ],
   "source": [
    "nbHitsDF.plot(\n",
    "    markersize=10,\n",
    "    marker='+',\n",
    "    figsize=(16,10)\n",
    ")"
   ]
  },
  {
   "cell_type": "markdown",
   "metadata": {},
   "source": [
    "Looks like an exponential to me..."
   ]
  },
  {
   "cell_type": "code",
   "execution_count": 17,
   "metadata": {},
   "outputs": [
    {
     "data": {
      "text/plain": [
       "<matplotlib.axes._subplots.AxesSubplot at 0x7fc4ce447450>"
      ]
     },
     "execution_count": 17,
     "metadata": {},
     "output_type": "execute_result"
    },
    {
     "data": {
      "image/png": "[encoded data removed]",
      "text/plain": [
       "<Figure size 1152x720 with 1 Axes>"
      ]
     },
     "metadata": {
      "needs_background": "light"
     },
     "output_type": "display_data"
    }
   ],
   "source": [
    "nbHitsDF['logHits'] = np.log(nbHitsDF['hits'])\n",
    "nbHitsDF['logHits'].plot(figsize=(16,10))"
   ]
  },
  {
   "cell_type": "markdown",
   "metadata": {},
   "source": [
    "OK, maybe just a little bit less than exponential, but still! There are probably better ways of doing this, but..."
   ]
  },
  {
   "cell_type": "code",
   "execution_count": 18,
   "metadata": {},
   "outputs": [],
   "source": [
    "nbHitsDF['sinceStart'] = (nbHitsDF.index - nbHitsDF.index[0]).days"
   ]
  },
  {
   "cell_type": "code",
   "execution_count": 19,
   "metadata": {},
   "outputs": [
    {
     "data": {
      "text/plain": [
       "array([-4.47659971e-07,  3.24708187e-03,  1.10771887e+01])"
      ]
     },
     "execution_count": 19,
     "metadata": {},
     "output_type": "execute_result"
    }
   ],
   "source": [
    "params = np.polyfit(nbHitsDF['sinceStart'], nbHitsDF['logHits'], 2)\n",
    "\n",
    "params"
   ]
  },
  {
   "cell_type": "code",
   "execution_count": 20,
   "metadata": {},
   "outputs": [
    {
     "data": {
      "text/plain": [
       "[<matplotlib.lines.Line2D at 0x7fc4ce3b4410>]"
      ]
     },
     "execution_count": 20,
     "metadata": {},
     "output_type": "execute_result"
    },
    {
     "data": {
      "image/png": "[encoded data removed]",
      "text/plain": [
       "<Figure size 1152x720 with 1 Axes>"
      ]
     },
     "metadata": {
      "needs_background": "light"
     },
     "output_type": "display_data"
    }
   ],
   "source": [
    "fig = plt.figure(figsize=(16,10))\n",
    "\n",
    "ax = fig.add_subplot(1, 1, 1)\n",
    "ax.plot(nbHitsDF['sinceStart'], nbHitsDF['logHits'])\n",
    "ax.plot(\n",
    "    nbHitsDF['sinceStart'], \n",
    "    params[2] + nbHitsDF['sinceStart'] * (params[1] + nbHitsDF['sinceStart'] * params[0])\n",
    ")"
   ]
  },
  {
   "cell_type": "markdown",
   "metadata": {},
   "source": [
    "**TODO**: Try to figure out when GitHub will have more than 8M notebooks"
   ]
  },
  {
   "cell_type": "markdown",
   "metadata": {},
   "source": [
    "## User endpoint\n",
    "\n",
    "The endpoint for user repositories is https://api.github.com/users/<username>/repos. Let's see what repositories we can find, (try your own github username if you like)"
   ]
  },
  {
   "cell_type": "code",
   "execution_count": 23,
   "metadata": {},
   "outputs": [],
   "source": [
    "payload = {'sort': 'push'}\n",
    "resp = requests.get(\n",
    "    'https://api.github.com/users/torvalds/repos',\n",
    "    params=payload,\n",
    "    auth=(os.environ.get('GITHUB_USER'), os.environ.get('GITHUB_API_KEY'))\n",
    ")\n",
    "resp.raise_for_status()"
   ]
  },
  {
   "cell_type": "code",
   "execution_count": 24,
   "metadata": {},
   "outputs": [
    {
     "data": {
      "text/html": [
       "<div>\n",
       "<style scoped>\n",
       "    .dataframe tbody tr th:only-of-type {\n",
       "        vertical-align: middle;\n",
       "    }\n",
       "\n",
       "    .dataframe tbody tr th {\n",
       "        vertical-align: top;\n",
       "    }\n",
       "\n",
       "    .dataframe thead th {\n",
       "        text-align: right;\n",
       "    }\n",
       "</style>\n",
       "<table border=\"1\" class=\"dataframe\">\n",
       "  <thead>\n",
       "    <tr style=\"text-align: right;\">\n",
       "      <th></th>\n",
       "      <th>id</th>\n",
       "      <th>node_id</th>\n",
       "      <th>name</th>\n",
       "      <th>full_name</th>\n",
       "      <th>private</th>\n",
       "      <th>owner</th>\n",
       "      <th>html_url</th>\n",
       "      <th>description</th>\n",
       "      <th>fork</th>\n",
       "      <th>url</th>\n",
       "      <th>...</th>\n",
       "      <th>mirror_url</th>\n",
       "      <th>archived</th>\n",
       "      <th>disabled</th>\n",
       "      <th>open_issues_count</th>\n",
       "      <th>license</th>\n",
       "      <th>forks</th>\n",
       "      <th>open_issues</th>\n",
       "      <th>watchers</th>\n",
       "      <th>default_branch</th>\n",
       "      <th>permissions</th>\n",
       "    </tr>\n",
       "  </thead>\n",
       "  <tbody>\n",
       "    <tr>\n",
       "      <th>0</th>\n",
       "      <td>117900805</td>\n",
       "      <td>MDEwOlJlcG9zaXRvcnkxMTc5MDA4MDU=</td>\n",
       "      <td>uemacs</td>\n",
       "      <td>torvalds/uemacs</td>\n",
       "      <td>False</td>\n",
       "      <td>{'login': 'torvalds', 'id': 1024025, 'node_id'...</td>\n",
       "      <td>https://github.com/torvalds/uemacs</td>\n",
       "      <td>Random version of microemacs with my private m...</td>\n",
       "      <td>False</td>\n",
       "      <td>https://api.github.com/repos/torvalds/uemacs</td>\n",
       "      <td>...</td>\n",
       "      <td>NaN</td>\n",
       "      <td>False</td>\n",
       "      <td>False</td>\n",
       "      <td>18</td>\n",
       "      <td>None</td>\n",
       "      <td>94</td>\n",
       "      <td>18</td>\n",
       "      <td>520</td>\n",
       "      <td>master</td>\n",
       "      <td>{'admin': False, 'push': False, 'pull': True}</td>\n",
       "    </tr>\n",
       "    <tr>\n",
       "      <th>1</th>\n",
       "      <td>113099837</td>\n",
       "      <td>MDEwOlJlcG9zaXRvcnkxMTMwOTk4Mzc=</td>\n",
       "      <td>pesconvert</td>\n",
       "      <td>torvalds/pesconvert</td>\n",
       "      <td>False</td>\n",
       "      <td>{'login': 'torvalds', 'id': 1024025, 'node_id'...</td>\n",
       "      <td>https://github.com/torvalds/pesconvert</td>\n",
       "      <td>Brother PES file converter</td>\n",
       "      <td>False</td>\n",
       "      <td>https://api.github.com/repos/torvalds/pesconvert</td>\n",
       "      <td>...</td>\n",
       "      <td>NaN</td>\n",
       "      <td>False</td>\n",
       "      <td>False</td>\n",
       "      <td>4</td>\n",
       "      <td>None</td>\n",
       "      <td>23</td>\n",
       "      <td>4</td>\n",
       "      <td>134</td>\n",
       "      <td>master</td>\n",
       "      <td>{'admin': False, 'push': False, 'pull': True}</td>\n",
       "    </tr>\n",
       "    <tr>\n",
       "      <th>2</th>\n",
       "      <td>86106493</td>\n",
       "      <td>MDEwOlJlcG9zaXRvcnk4NjEwNjQ5Mw==</td>\n",
       "      <td>test-tlb</td>\n",
       "      <td>torvalds/test-tlb</td>\n",
       "      <td>False</td>\n",
       "      <td>{'login': 'torvalds', 'id': 1024025, 'node_id'...</td>\n",
       "      <td>https://github.com/torvalds/test-tlb</td>\n",
       "      <td>Stupid memory latency and TLB tester</td>\n",
       "      <td>False</td>\n",
       "      <td>https://api.github.com/repos/torvalds/test-tlb</td>\n",
       "      <td>...</td>\n",
       "      <td>NaN</td>\n",
       "      <td>False</td>\n",
       "      <td>False</td>\n",
       "      <td>3</td>\n",
       "      <td>{'key': 'gpl-2.0', 'name': 'GNU General Public...</td>\n",
       "      <td>99</td>\n",
       "      <td>3</td>\n",
       "      <td>270</td>\n",
       "      <td>master</td>\n",
       "      <td>{'admin': False, 'push': False, 'pull': True}</td>\n",
       "    </tr>\n",
       "    <tr>\n",
       "      <th>3</th>\n",
       "      <td>79171906</td>\n",
       "      <td>MDEwOlJlcG9zaXRvcnk3OTE3MTkwNg==</td>\n",
       "      <td>libdc-for-dirk</td>\n",
       "      <td>torvalds/libdc-for-dirk</td>\n",
       "      <td>False</td>\n",
       "      <td>{'login': 'torvalds', 'id': 1024025, 'node_id'...</td>\n",
       "      <td>https://github.com/torvalds/libdc-for-dirk</td>\n",
       "      <td>Only use for syncing with Dirk, don't use for ...</td>\n",
       "      <td>True</td>\n",
       "      <td>https://api.github.com/repos/torvalds/libdc-fo...</td>\n",
       "      <td>...</td>\n",
       "      <td>NaN</td>\n",
       "      <td>False</td>\n",
       "      <td>False</td>\n",
       "      <td>0</td>\n",
       "      <td>{'key': 'lgpl-2.1', 'name': 'GNU Lesser Genera...</td>\n",
       "      <td>24</td>\n",
       "      <td>0</td>\n",
       "      <td>65</td>\n",
       "      <td>Subsurface-branch</td>\n",
       "      <td>{'admin': False, 'push': False, 'pull': True}</td>\n",
       "    </tr>\n",
       "    <tr>\n",
       "      <th>4</th>\n",
       "      <td>78665021</td>\n",
       "      <td>MDEwOlJlcG9zaXRvcnk3ODY2NTAyMQ==</td>\n",
       "      <td>subsurface-for-dirk</td>\n",
       "      <td>torvalds/subsurface-for-dirk</td>\n",
       "      <td>False</td>\n",
       "      <td>{'login': 'torvalds', 'id': 1024025, 'node_id'...</td>\n",
       "      <td>https://github.com/torvalds/subsurface-for-dirk</td>\n",
       "      <td>Do not use - the real upstream is  Subsurface-...</td>\n",
       "      <td>True</td>\n",
       "      <td>https://api.github.com/repos/torvalds/subsurfa...</td>\n",
       "      <td>...</td>\n",
       "      <td>NaN</td>\n",
       "      <td>False</td>\n",
       "      <td>False</td>\n",
       "      <td>0</td>\n",
       "      <td>{'key': 'gpl-2.0', 'name': 'GNU General Public...</td>\n",
       "      <td>35</td>\n",
       "      <td>0</td>\n",
       "      <td>115</td>\n",
       "      <td>master</td>\n",
       "      <td>{'admin': False, 'push': False, 'pull': True}</td>\n",
       "    </tr>\n",
       "    <tr>\n",
       "      <th>5</th>\n",
       "      <td>2325298</td>\n",
       "      <td>MDEwOlJlcG9zaXRvcnkyMzI1Mjk4</td>\n",
       "      <td>linux</td>\n",
       "      <td>torvalds/linux</td>\n",
       "      <td>False</td>\n",
       "      <td>{'login': 'torvalds', 'id': 1024025, 'node_id'...</td>\n",
       "      <td>https://github.com/torvalds/linux</td>\n",
       "      <td>Linux kernel source tree</td>\n",
       "      <td>False</td>\n",
       "      <td>https://api.github.com/repos/torvalds/linux</td>\n",
       "      <td>...</td>\n",
       "      <td>NaN</td>\n",
       "      <td>False</td>\n",
       "      <td>False</td>\n",
       "      <td>328</td>\n",
       "      <td>{'key': 'other', 'name': 'Other', 'spdx_id': '...</td>\n",
       "      <td>31949</td>\n",
       "      <td>328</td>\n",
       "      <td>91812</td>\n",
       "      <td>master</td>\n",
       "      <td>{'admin': False, 'push': False, 'pull': True}</td>\n",
       "    </tr>\n",
       "  </tbody>\n",
       "</table>\n",
       "<p>6 rows × 74 columns</p>\n",
       "</div>"
      ],
      "text/plain": [
       "          id                           node_id                 name  \\\n",
       "0  117900805  MDEwOlJlcG9zaXRvcnkxMTc5MDA4MDU=               uemacs   \n",
       "1  113099837  MDEwOlJlcG9zaXRvcnkxMTMwOTk4Mzc=           pesconvert   \n",
       "2   86106493  MDEwOlJlcG9zaXRvcnk4NjEwNjQ5Mw==             test-tlb   \n",
       "3   79171906  MDEwOlJlcG9zaXRvcnk3OTE3MTkwNg==       libdc-for-dirk   \n",
       "4   78665021  MDEwOlJlcG9zaXRvcnk3ODY2NTAyMQ==  subsurface-for-dirk   \n",
       "5    2325298      MDEwOlJlcG9zaXRvcnkyMzI1Mjk4                linux   \n",
       "\n",
       "                      full_name  private  \\\n",
       "0               torvalds/uemacs    False   \n",
       "1           torvalds/pesconvert    False   \n",
       "2             torvalds/test-tlb    False   \n",
       "3       torvalds/libdc-for-dirk    False   \n",
       "4  torvalds/subsurface-for-dirk    False   \n",
       "5                torvalds/linux    False   \n",
       "\n",
       "                                               owner  \\\n",
       "0  {'login': 'torvalds', 'id': 1024025, 'node_id'...   \n",
       "1  {'login': 'torvalds', 'id': 1024025, 'node_id'...   \n",
       "2  {'login': 'torvalds', 'id': 1024025, 'node_id'...   \n",
       "3  {'login': 'torvalds', 'id': 1024025, 'node_id'...   \n",
       "4  {'login': 'torvalds', 'id': 1024025, 'node_id'...   \n",
       "5  {'login': 'torvalds', 'id': 1024025, 'node_id'...   \n",
       "\n",
       "                                          html_url  \\\n",
       "0               https://github.com/torvalds/uemacs   \n",
       "1           https://github.com/torvalds/pesconvert   \n",
       "2             https://github.com/torvalds/test-tlb   \n",
       "3       https://github.com/torvalds/libdc-for-dirk   \n",
       "4  https://github.com/torvalds/subsurface-for-dirk   \n",
       "5                https://github.com/torvalds/linux   \n",
       "\n",
       "                                         description   fork  \\\n",
       "0  Random version of microemacs with my private m...  False   \n",
       "1                         Brother PES file converter  False   \n",
       "2               Stupid memory latency and TLB tester  False   \n",
       "3  Only use for syncing with Dirk, don't use for ...   True   \n",
       "4  Do not use - the real upstream is  Subsurface-...   True   \n",
       "5                           Linux kernel source tree  False   \n",
       "\n",
       "                                                 url  ... mirror_url archived  \\\n",
       "0       https://api.github.com/repos/torvalds/uemacs  ...        NaN    False   \n",
       "1   https://api.github.com/repos/torvalds/pesconvert  ...        NaN    False   \n",
       "2     https://api.github.com/repos/torvalds/test-tlb  ...        NaN    False   \n",
       "3  https://api.github.com/repos/torvalds/libdc-fo...  ...        NaN    False   \n",
       "4  https://api.github.com/repos/torvalds/subsurfa...  ...        NaN    False   \n",
       "5        https://api.github.com/repos/torvalds/linux  ...        NaN    False   \n",
       "\n",
       "  disabled open_issues_count  \\\n",
       "0    False                18   \n",
       "1    False                 4   \n",
       "2    False                 3   \n",
       "3    False                 0   \n",
       "4    False                 0   \n",
       "5    False               328   \n",
       "\n",
       "                                             license  forks open_issues  \\\n",
       "0                                               None     94          18   \n",
       "1                                               None     23           4   \n",
       "2  {'key': 'gpl-2.0', 'name': 'GNU General Public...     99           3   \n",
       "3  {'key': 'lgpl-2.1', 'name': 'GNU Lesser Genera...     24           0   \n",
       "4  {'key': 'gpl-2.0', 'name': 'GNU General Public...     35           0   \n",
       "5  {'key': 'other', 'name': 'Other', 'spdx_id': '...  31949         328   \n",
       "\n",
       "  watchers     default_branch                                    permissions  \n",
       "0      520             master  {'admin': False, 'push': False, 'pull': True}  \n",
       "1      134             master  {'admin': False, 'push': False, 'pull': True}  \n",
       "2      270             master  {'admin': False, 'push': False, 'pull': True}  \n",
       "3       65  Subsurface-branch  {'admin': False, 'push': False, 'pull': True}  \n",
       "4      115             master  {'admin': False, 'push': False, 'pull': True}  \n",
       "5    91812             master  {'admin': False, 'push': False, 'pull': True}  \n",
       "\n",
       "[6 rows x 74 columns]"
      ]
     },
     "execution_count": 24,
     "metadata": {},
     "output_type": "execute_result"
    }
   ],
   "source": [
    "torvaldsDF = pd.read_json(resp.text)\n",
    "torvaldsDF"
   ]
  },
  {
   "cell_type": "markdown",
   "metadata": {},
   "source": [
    "**TODO**: See if you can extract linus' public key!"
   ]
  },
  {
   "cell_type": "code",
   "execution_count": 25,
   "metadata": {},
   "outputs": [
    {
     "data": {
      "text/html": [
       "<div>\n",
       "<style scoped>\n",
       "    .dataframe tbody tr th:only-of-type {\n",
       "        vertical-align: middle;\n",
       "    }\n",
       "\n",
       "    .dataframe tbody tr th {\n",
       "        vertical-align: top;\n",
       "    }\n",
       "\n",
       "    .dataframe thead th {\n",
       "        text-align: right;\n",
       "    }\n",
       "</style>\n",
       "<table border=\"1\" class=\"dataframe\">\n",
       "  <thead>\n",
       "    <tr style=\"text-align: right;\">\n",
       "      <th></th>\n",
       "      <th>id</th>\n",
       "      <th>key</th>\n",
       "    </tr>\n",
       "  </thead>\n",
       "  <tbody>\n",
       "    <tr>\n",
       "      <th>0</th>\n",
       "      <td>1306333</td>\n",
       "      <td>ssh-rsa AAAAB3NzaC1yc2EAAAADAQABAAABAQCoQ9S7V+...</td>\n",
       "    </tr>\n",
       "  </tbody>\n",
       "</table>\n",
       "</div>"
      ],
      "text/plain": [
       "        id                                                key\n",
       "0  1306333  ssh-rsa AAAAB3NzaC1yc2EAAAADAQABAAABAQCoQ9S7V+..."
      ]
     },
     "execution_count": 25,
     "metadata": {},
     "output_type": "execute_result"
    }
   ],
   "source": [
    "resp = requests.get(\n",
    "    'https://api.github.com/users/torvalds/keys',\n",
    "    auth=(os.environ.get('GITHUB_USER'), os.environ.get('GITHUB_API_KEY'))\n",
    ")\n",
    "resp.raise_for_status()\n",
    "pd.read_json(resp.text)"
   ]
  },
  {
   "cell_type": "markdown",
   "metadata": {},
   "source": [
    "## Other Endpoints\n",
    "\n",
    "There are [lots of other interesting endpoints](https://developer.github.com/v3) to play with, here are some of the more interesting ones:\n",
    "\n",
    "  * [Collaborators](https://developer.github.com/v3/repos/collaborators/)\n",
    "  * [Repositories](https://developer.github.com/v3/repos) - List repos, create new ones etc.\n",
    "    * [Commits](https://developer.github.com/v3/repos/commits/) - examine past commits\n",
    "    * [Statistics](https://developer.github.com/v3/repos/statistics/) - repository stats, who commits most often etc.\n",
    "  * [Search](https://developer.github.com/v3/search/) - Find all the data\n",
    "    * [Commits](https://developer.github.com/v3/search/#search-commits)\n",
    "    * [Users](https://developer.github.com/v3/search/#search-users)\n",
    "    * [Repositories](https://developer.github.com/v3/search/#search-repositories)\n",
    "    * [Issues](https://developer.github.com/v3/search/#search-issues-and-pull-requests)\n",
    "  * [Pull Requests](https://developer.github.com/v3/pulls/) - Creation and merge PRs automatically!\n",
    "  \n",
    "  \n",
    "I'd _strongly_ recommend sticking to the GET methods until you are comfortable, but once you are ready, the (requests)[https://2.python-requests.org/en/master/] module has all of the options you need to make POST/PUT/DELETE requests to make changes.\n"
   ]
  }
 ],
 "metadata": {
  "kernelspec": {
   "display_name": "Python 3",
   "language": "python",
   "name": "python3"
  },
  "language_info": {
   "codemirror_mode": {
    "name": "ipython",
    "version": 3
   },
   "file_extension": ".py",
   "mimetype": "text/x-python",
   "name": "python",
   "nbconvert_exporter": "python",
   "pygments_lexer": "ipython3",
   "version": "3.7.6"
  }
 },
 "nbformat": 4,
 "nbformat_minor": 2
}
