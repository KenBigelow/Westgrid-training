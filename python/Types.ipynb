{
 "cells": [
  {
   "cell_type": "markdown",
   "metadata": {},
   "source": [
    "# Python\n"
   ]
  },
  {
   "cell_type": "markdown",
   "metadata": {},
   "source": [
    "## Types\n",
    "\n",
    "Data in python takes the form of _objects_. These can be a combination of intrinsic object types, classes and other objects built in python or external objects imported from libraries etc. In general an object will have some value(s) and associated operations. You can use the `type` keyword to examine the type of just about any object.\n",
    "\n",
    "* [Numbers](#Numbers)\n",
    "* [Strings](#Strings)\n",
    "* [Lists](#Lists)\n",
    "* [Dictionaries](#Dictionaries)\n",
    "* [Tuples](#Tuples)\n",
    "* [Sets](#Sets)\n",
    "* [Files](#Files)\n",
    "* [Other Types](#Other-Types)\n",
    "\n",
    "\n",
    "In Python3, everything is an object, and the objects that come as part of the language standard are pretty comprehensive and powerful. For short programs, you can often get away with using only intrinsic types\n",
    "\n",
    "### Numbers\n",
    "  \n",
    "For number literals (e.g 1, 1.3, 4e-6), you just treat python as a calculator and start feeding it numbers. The usual integer and floating point things are available. For integer arithmeitc you don't need to worry about precision, python integers are arbitrary length. The usual type casting rules apply and you have the following operations\n",
    "\n",
    " * Ordinary arithmetic: +, -, *, **, / (Use // if you need integer division in Python3)\n",
    " * Bitwise operators: >>, &, | etc.\n",
    " * Functions: pow, abs, round, int, hex, bin, etc.\n",
    "\n",
    "The language also includes the `math` and `random` modules in the standard library, but for the most part it's best to use numpy for anything beyond basic arithmetic."
   ]
  },
  {
   "cell_type": "code",
   "execution_count": null,
   "metadata": {},
   "outputs": [],
   "source": [
    "import random \n",
    "\n",
    "random.seed(46)\n",
    "random.randint(0, 100) - 3**2 - 1/4\n"
   ]
  },
  {
   "cell_type": "markdown",
   "metadata": {},
   "source": [
    "N.B. 1/4 is a float in Python3 so our answer got upcasted."
   ]
  },
  {
   "cell_type": "markdown",
   "metadata": {},
   "source": [
    "The Decimal and Fraction types don't come up very often but they let you work with fixed precision and rational numbers respectively. Try looking at `0.1 * 3 - 0.3` as a floating point operation vs. the same thing in Decimals\n",
    "\n"
   ]
  },
  {
   "cell_type": "code",
   "execution_count": null,
   "metadata": {},
   "outputs": [],
   "source": [
    "from decimal import Decimal\n",
    "from fractions import Fraction\n",
    "\n",
    "print(f\"With floats    : {0.1 * 3 - 0.3}\")\n",
    "print(f\"With Decimal   : {Decimal('0.1') * 3 - Decimal('0.3')}\")\n",
    "print(f\"With Fractions : {Fraction(1, 10) * 3 - Fraction(3, 10)}\")"
   ]
  },
  {
   "cell_type": "markdown",
   "metadata": {},
   "source": [
    "### Strings\n",
    "\n",
    "All strings are unicode in Pythøn3, this is wonderful because it lets us type whatever we want; 🥰. The downside of this is you end up encoding and decoding everything. If you know the unicode for the thing you want to type you can  enter it manually. e.g. 😉 is b'\\xf0\\x9f\\x98\\x89' as utf-8"
   ]
  },
  {
   "cell_type": "code",
   "execution_count": null,
   "metadata": {},
   "outputs": [],
   "source": [
    "b'\\xf0\\x9f\\x98\\x89'.decode()"
   ]
  },
  {
   "cell_type": "code",
   "execution_count": null,
   "metadata": {},
   "outputs": [],
   "source": [
    "'🥰'.encode('utf-8')"
   ]
  },
  {
   "cell_type": "markdown",
   "metadata": {},
   "source": [
    "Strings can be interpreted as sequences, things that have a length and a definite order, so we can also use index notation to examine parts of the string. This notation is *very* widely used in the Python ecosystem. It is worth mastering before moving on. The general syntax is `sequence[start:stop:stride]`. `start` is inclusive so the character at position `start` _will_ be included, but `stop` is exclusive! If you omit the `start` value, the start of the string (position `0` in python) is assumed, if you omit `stop`, the end of the string (inclusive) will be assumed, and if you omit the `stride`, 1 will be assumed."
   ]
  },
  {
   "cell_type": "code",
   "execution_count": null,
   "metadata": {},
   "outputs": [],
   "source": [
    "instring = \"This is the string we start with\"\n",
    "print(f\"{instring[::2]}\")"
   ]
  },
  {
   "cell_type": "code",
   "execution_count": null,
   "metadata": {},
   "outputs": [],
   "source": [
    "print(f\"{instring[22:27] + ' ' + instring[29:31]}\")"
   ]
  },
  {
   "cell_type": "markdown",
   "metadata": {},
   "source": [
    "You can also use negative numbers to specify locations relative to the _end_ of the string with negative numbers"
   ]
  },
  {
   "cell_type": "code",
   "execution_count": null,
   "metadata": {},
   "outputs": [],
   "source": [
    "print(f\"end {instring[-3:-1:]}\")"
   ]
  },
  {
   "cell_type": "markdown",
   "metadata": {},
   "source": [
    "Strings are immutable, once they have been created you can read values from them, but you can't update them in place. This isn't as limiting as it sounds because you can assign your transformed strings to a new (or the same) variable."
   ]
  },
  {
   "cell_type": "code",
   "execution_count": null,
   "metadata": {},
   "outputs": [],
   "source": [
    "instring = instring.upper()"
   ]
  },
  {
   "cell_type": "markdown",
   "metadata": {},
   "source": [
    "Stings also have lots of methods which you can use to transform the. Try typing `instring.<TAB>` and see what Jupyter suggests in the completions. `split`, `trim`, `join` etc. can be very useful"
   ]
  },
  {
   "cell_type": "code",
   "execution_count": null,
   "metadata": {},
   "outputs": [],
   "source": [
    "listofwords = ['a', 'list', 'of', 'words']\n",
    "' '.join(listofwords)"
   ]
  },
  {
   "cell_type": "markdown",
   "metadata": {},
   "source": [
    "`' '` is a string so we can use the `join` method on it. `join` accepts an iterable as its first argument and in this case puts `' '` between each of the list items."
   ]
  },
  {
   "cell_type": "markdown",
   "metadata": {},
   "source": [
    "## Collections\n",
    "\n",
    "Python has a few different types of collection (there's even a system module called `collections`) but the big two are Lists and Dictionaries (hashes). If you can master those you'll be in a good position to implement almost any algorithm you need.\n",
    "\n",
    "### Lists\n",
    "\n",
    "Lists might be the most flexible collection object in Python. They are ordered collections which you can fill with different types of objects (strings, numbers, other lists, etc.). You can iterate over them, add + remove elements etc. To make a list you surrond the elements with square brackets and separate items by commas"
   ]
  },
  {
   "cell_type": "code",
   "execution_count": null,
   "metadata": {},
   "outputs": [],
   "source": [
    "alist = [1, 'a', 15.5, 'A string', random]\n",
    "alist"
   ]
  },
  {
   "cell_type": "markdown",
   "metadata": {},
   "source": [
    "You can use the same indexing sytnax as before..."
   ]
  },
  {
   "cell_type": "code",
   "execution_count": null,
   "metadata": {},
   "outputs": [],
   "source": [
    "alist[1:4:2]"
   ]
  },
  {
   "cell_type": "markdown",
   "metadata": {},
   "source": [
    "Lists are mutable, so you can update them in place"
   ]
  },
  {
   "cell_type": "code",
   "execution_count": null,
   "metadata": {},
   "outputs": [],
   "source": [
    "L = []\n",
    "L += [1, 2, 2, 5]\n",
    "L"
   ]
  },
  {
   "cell_type": "markdown",
   "metadata": {},
   "source": [
    "You can also `.append` to them, `.pop` items off the end, etc. Create a list and hit `<TAB>` twice to get some ideas"
   ]
  },
  {
   "cell_type": "code",
   "execution_count": null,
   "metadata": {},
   "outputs": [],
   "source": [
    "L.append('a')\n",
    "L"
   ]
  },
  {
   "cell_type": "code",
   "execution_count": null,
   "metadata": {},
   "outputs": [],
   "source": [
    "L.pop()\n",
    "L"
   ]
  },
  {
   "cell_type": "code",
   "execution_count": null,
   "metadata": {},
   "outputs": [],
   "source": [
    "L.reverse() # N.B. This will reverse in place, try running it twice\n",
    "L"
   ]
  },
  {
   "cell_type": "markdown",
   "metadata": {},
   "source": [
    "Lists are iterable so you can easily loop over them, e.g."
   ]
  },
  {
   "cell_type": "code",
   "execution_count": null,
   "metadata": {},
   "outputs": [],
   "source": [
    "for number in L:\n",
    "    print(number)"
   ]
  },
  {
   "cell_type": "markdown",
   "metadata": {},
   "source": [
    "Before we move on, one common idiom you will see for iterating over lists is the \"list comprehension\". This is a quick and neat way of building a list (it returns a list). Basically you put a for loop inside of square brackets, the loop is expanded and each element is added to the list"
   ]
  },
  {
   "cell_type": "code",
   "execution_count": null,
   "metadata": {},
   "outputs": [],
   "source": [
    "L2 = [2*number for number in range(4)]\n",
    "L2"
   ]
  },
  {
   "cell_type": "markdown",
   "metadata": {},
   "source": [
    "It is possible to add conditions in the for loop or to put lots of logic in the expression at the beginning but this is usually a bad idea, they can quickly become unreadable."
   ]
  },
  {
   "cell_type": "markdown",
   "metadata": {},
   "source": [
    "### Dictionaries\n",
    "\n",
    "Together, dictionaries and lists cover most of the collections you will see in python. A Dictionary is an (unordered!) list of key:value pairs. A HUGE portion of programming problems you will face boil down to implementing some sort of hash lookup and this is where dictionaries excel. You can create dictionaries with the curly brace notation"
   ]
  },
  {
   "cell_type": "code",
   "execution_count": null,
   "metadata": {},
   "outputs": [],
   "source": [
    "D = {}"
   ]
  },
  {
   "cell_type": "markdown",
   "metadata": {},
   "source": [
    "You can intialize a dictionary with `key : value` pairs or you can add items with square bracket notation"
   ]
  },
  {
   "cell_type": "code",
   "execution_count": null,
   "metadata": {},
   "outputs": [],
   "source": [
    "D = {\n",
    "    'c': 1,\n",
    "    'b': 2\n",
    "}\n",
    "\n",
    "D['a'] = 3\n"
   ]
  },
  {
   "cell_type": "markdown",
   "metadata": {},
   "source": [
    "Dictionaries are mutable so you can change items in place"
   ]
  },
  {
   "cell_type": "code",
   "execution_count": null,
   "metadata": {},
   "outputs": [],
   "source": [
    "del(D['c'])\n",
    "D\n",
    "\n",
    "D['b'] = 4\n",
    "D"
   ]
  },
  {
   "cell_type": "markdown",
   "metadata": {},
   "source": [
    "Dictionaries have lots of methods (take look at `D.<TAB>`) and there are a few ways of iterating over a them, but the most common is probably `items()`.  `items()` returns something you can iterate where each item is a pair (`key`, `value`). In general dictionaries aren't ordered, but you can always sort by key or sort by value if you need to."
   ]
  },
  {
   "cell_type": "code",
   "execution_count": null,
   "metadata": {},
   "outputs": [],
   "source": [
    "for key, value in D.items():\n",
    "    print(f\"{key}: {value}\")"
   ]
  },
  {
   "cell_type": "code",
   "execution_count": null,
   "metadata": {},
   "outputs": [],
   "source": [
    "for key in sorted(D.keys()):\n",
    "    print(f\"{key}: {D[key]}\")"
   ]
  },
  {
   "cell_type": "markdown",
   "metadata": {},
   "source": [
    "Dictionaries also have a comprehension idiom for quickly creating simple dictionaries, but again, use it sparingly and where it won't cause confusion."
   ]
  },
  {
   "cell_type": "code",
   "execution_count": null,
   "metadata": {},
   "outputs": [],
   "source": [
    "D2 = {str(i): i for i in range(5) }\n",
    "D2"
   ]
  },
  {
   "cell_type": "markdown",
   "metadata": {},
   "source": [
    "The `in` keyword will test for the existence of keys in a dict, e.g."
   ]
  },
  {
   "cell_type": "code",
   "execution_count": null,
   "metadata": {},
   "outputs": [],
   "source": [
    "'2' in D2"
   ]
  },
  {
   "cell_type": "code",
   "execution_count": null,
   "metadata": {},
   "outputs": [],
   "source": [
    "'33' in D2"
   ]
  },
  {
   "cell_type": "markdown",
   "metadata": {},
   "source": [
    "### Tuples\n",
    "\n",
    "Tuples are conceptually similar to Lists, but they are immutable. This makes them much more efficient in some contexts (python knows they aren't going to be modified) and you'll quite often see functions and methods returning tuples rather than lists. The syntax for creating them is very similar to lists, but with parentheses"
   ]
  },
  {
   "cell_type": "code",
   "execution_count": null,
   "metadata": {},
   "outputs": [],
   "source": [
    "mytuple = (1, 3, 'apple')\n",
    "mytuple"
   ]
  },
  {
   "cell_type": "markdown",
   "metadata": {},
   "source": [
    "Tuples *kind-of* have a notion of a comprehension, but they return a generator rather than all of the complete collection. Generators are a bit more of an advanced topic but basically they implement the idea of a stream with a .next() method which will let you walk along generating new values lazily, only when they are requested."
   ]
  },
  {
   "cell_type": "code",
   "execution_count": null,
   "metadata": {},
   "outputs": [],
   "source": [
    "a = (i for i in range(4))\n",
    "list(a)"
   ]
  },
  {
   "cell_type": "markdown",
   "metadata": {},
   "source": [
    "### Sets\n",
    "\n",
    "Sets are not very common, but they can be useful in some contexts. They are mutable so you can add new items to them, but if the item already exists in the set no change is made. This can be useful because the items of the set are unique by construction. If you look at the methods on a set you will see the usual set operations, intersection, union etc."
   ]
  },
  {
   "cell_type": "code",
   "execution_count": null,
   "metadata": {},
   "outputs": [],
   "source": [
    "a = set((1, 2, 3))\n",
    "\n",
    "a == set((1, 2, 3, 3))"
   ]
  },
  {
   "cell_type": "markdown",
   "metadata": {},
   "source": [
    "### Files"
   ]
  },
  {
   "cell_type": "code",
   "execution_count": null,
   "metadata": {},
   "outputs": [],
   "source": [
    "f = open('myfile.txt', 'w') # w is the mode of the operation, write in this case\n",
    "f.write(\"Westgrid\\n\")\n",
    "f.write(\"Summer School\\n\")\n",
    "f.close()"
   ]
  },
  {
   "cell_type": "markdown",
   "metadata": {},
   "source": [
    "We opened in write mode, this mode will clobber existing files called 'myfile.txt' in this directory. Take a look at the help for `open` for append and other modes. The close() method at the end is important, it will flush any remaining output to the file consistently."
   ]
  },
  {
   "cell_type": "code",
   "execution_count": null,
   "metadata": {},
   "outputs": [],
   "source": [
    "f = open('myfile.txt', 'r')\n",
    "contents = f.read() # This reads the _whole_ file! Be careful\n",
    "f.close()\n",
    "\n",
    "print(contents)"
   ]
  },
  {
   "cell_type": "markdown",
   "metadata": {},
   "source": [
    "By default open will work with text files, but it can also work with binary files by changing the second argument (mode) to e.g. `w+b`, `r+b`.\n",
    "\n",
    "Before we move on there is one common idiom you will see when opening files"
   ]
  },
  {
   "cell_type": "code",
   "execution_count": null,
   "metadata": {},
   "outputs": [],
   "source": [
    "with open('myfile.txt', 'r') as f:\n",
    "    contents = f.read()\n",
    "    print(contents)"
   ]
  },
  {
   "cell_type": "markdown",
   "metadata": {},
   "source": [
    "The `with` keyword provides a \"context manager\" for the indented statements. In the first example we had to manually `.close()` the file when we were done with it and technically we should have been watching for file errors and handling them ourselves. With the `with` statement some of that work is moved onto the people who wrote the `open` function. They have a better idea of all of the things that can go wrong working with files so they can provide context around the file object and `with` lets python use that context to manage the file. The `with` statement comes up in other settings where there are natural `__enter__` and `__exit__` notions for objects but it's easiest to understand for files first."
   ]
  },
  {
   "cell_type": "markdown",
   "metadata": {},
   "source": [
    "### Other Types\n",
    "\n",
    "There are lots of other types in python, but the two most common you will see are Booleans and the special type None. Booleans are take two values `True` or `False`. And they behave as you would expect"
   ]
  },
  {
   "cell_type": "markdown",
   "metadata": {},
   "source": [
    "`None` is kind of a placeholder similar in spirit to NULL from other languages. You will often see it as a placeholder default argument or in tests (e.g. `if databaseConnection is None:` and implicitly `if not databaseConnection:`"
   ]
  },
  {
   "cell_type": "code",
   "execution_count": null,
   "metadata": {},
   "outputs": [],
   "source": [
    "if None:\n",
    "    print(\"this\")\n",
    "else:\n",
    "    print(\"that\")"
   ]
  },
  {
   "cell_type": "code",
   "execution_count": null,
   "metadata": {},
   "outputs": [],
   "source": [
    "0 == None"
   ]
  },
  {
   "cell_type": "markdown",
   "metadata": {},
   "source": [
    "$$\n",
    "\\newcommand{\\christoffel}[3]{\\Gamma^{#1#2}_{#3}}\n",
    "\\christoffel{i}{j}{k}\n",
    "$$"
   ]
  }
 ],
 "metadata": {
  "kernelspec": {
   "display_name": "Python 3",
   "language": "python",
   "name": "python3"
  },
  "language_info": {
   "codemirror_mode": {
    "name": "ipython",
    "version": 3
   },
   "file_extension": ".py",
   "mimetype": "text/x-python",
   "name": "python",
   "nbconvert_exporter": "python",
   "pygments_lexer": "ipython3",
   "version": "3.7.6"
  }
 },
 "nbformat": 4,
 "nbformat_minor": 2
}
