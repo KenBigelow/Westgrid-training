{
 "cells": [
  {
   "cell_type": "markdown",
   "metadata": {},
   "source": [
    "# Python\n",
    "\n",
    "For the most part Python is very forgiving and intuitive. You can get pretty far by just experimenting and doing a few google searches. The files in this directory introduce some of the basic ideas that we will be using for the other notebooks. If you are really lost, [this list of tutorials](https://wiki.python.org/moin/BeginnersGuide/Programmers) is probably a better place to start. With Jupyter and Syzygy, you can skip over all of the installation instructions and just start trying some stuff out in the cells below. \n",
    "\n",
    "There is a companion notebook in this directory called [Types](./Types.ipynb) which delves into the python type system (along with some other stuff), you can probably guess enough about types to read this notebook first, but it is worth checking out the python collective types (lists, dictionaries, sets etc.), they are used _everywhere_ and can make your life much easier once you have them down.\n",
    "\n",
    "* [Program Structure](#Python-program-structure)\n",
    "* [Conditionals](#Conditionals)\n",
    "* [Loops](#Loops)\n",
    "* [Functions](#Functions)\n",
    "* [Classes](#Classes)\n",
    "* [Types](./Types.ipynb) (including collections)\n",
    "\n",
    "# Python program structure\n",
    "\n",
    "The Python program structure is:\n",
    "\n",
    "1. Programs are composed of modules\n",
    "1. Modules contain statements\n",
    "1. [Statements](https://docs.python.org/3/reference/simple_stmts.html) contain expressions\n",
    "1. Expressions create and process objects\n",
    "\n",
    "I'm a bit blurry on the distinctions between expressions and statements here, but...\n",
    "\n",
    "> A statement is a complete line of code that performs some action, while an expression is any section of the code that evaluates to a value. Expressions can be combined “horizontally” into larger expressions using operators, while statements can only be combined “vertically” by writing one after another, or with block constructs.\n",
    "Defining some of these terms"
   ]
  },
  {
   "cell_type": "markdown",
   "metadata": {},
   "source": [
    "## Assigments\n",
    "\n",
    "In python, assignments are done with `=`. Names are created when you make an assignment and you don't need to worry about declaring types"
   ]
  },
  {
   "cell_type": "code",
   "execution_count": null,
   "metadata": {},
   "outputs": [],
   "source": [
    "a = 1"
   ]
  },
  {
   "cell_type": "markdown",
   "metadata": {},
   "source": [
    "You can also assign multiple elements at the same time in either tuple or list notation"
   ]
  },
  {
   "cell_type": "code",
   "execution_count": null,
   "metadata": {},
   "outputs": [],
   "source": [
    "a = 1; b = 2\n",
    "c, d = (1, 2)"
   ]
  },
  {
   "cell_type": "markdown",
   "metadata": {},
   "source": [
    "And you can assign to multiple names at the same time"
   ]
  },
  {
   "cell_type": "code",
   "execution_count": null,
   "metadata": {},
   "outputs": [],
   "source": [
    "a = b = 1"
   ]
  },
  {
   "cell_type": "markdown",
   "metadata": {},
   "source": [
    "Python also supports the idea of Sequence assignments. If the thing on the right hand side can be considered a sequence (e.g. a string is a sequence of letters) the assignment will still work..."
   ]
  },
  {
   "cell_type": "code",
   "execution_count": null,
   "metadata": {},
   "outputs": [],
   "source": [
    "a, b, c, d, e = 'apple'"
   ]
  },
  {
   "cell_type": "markdown",
   "metadata": {},
   "source": [
    "Since `=` is used for assignment, another operator is needed to test for equality and python chooses `==`. The other comparison operators look similar: `>=`, `<=`, `<`, `>`, `!=`, `<>`. The last two of these are equivalent forms of \"not equal\", but almost everyone uses `!=`."
   ]
  },
  {
   "cell_type": "markdown",
   "metadata": {},
   "source": [
    "## Conditionals\n",
    "\n",
    "Python implements conditionals via `if`, `elif` (short for \"else if\") and `else`. There is no `case/switch` statement in python.\n",
    "\n",
    "### if/elif/else\n",
    "\n",
    "The format for if statements is \n",
    "```python\n",
    "if <test>:\n",
    "  <statements>\n",
    "elif:\n",
    "  <statements>\n",
    "else:\n",
    "  <statements>\n",
    "```\n",
    "\n",
    "Where only the first condition, `if`, is actually required and you can string together as many `elif`'s as you need."
   ]
  },
  {
   "cell_type": "code",
   "execution_count": null,
   "metadata": {},
   "outputs": [],
   "source": [
    "a = 4\n",
    "if a < 4:\n",
    "    print(\"A is less than 4\")\n",
    "elif a == 4:\n",
    "    print(\"A is equal to four\")\n",
    "else:\n",
    "    print(\"A is greater than 4\")"
   ]
  },
  {
   "cell_type": "markdown",
   "metadata": {},
   "source": [
    "Python includes a `pass` statement for cases where a statement is required *syntactically*, but you don't want that statement to do anything. The `pass` statement does just that: nothing!"
   ]
  },
  {
   "cell_type": "code",
   "execution_count": null,
   "metadata": {},
   "outputs": [],
   "source": [
    "if 1 > 0:\n",
    "    pass"
   ]
  },
  {
   "cell_type": "markdown",
   "metadata": {},
   "source": [
    "## Loops\n",
    "\n",
    "Python has two main types of loop, `while` and `for`. \n",
    "\n",
    "### While loops\n",
    "\n",
    "Evaluate the condition at the top of the loop and if it is true, execute the body\n",
    "\n",
    "Typical form\n",
    "```python\n",
    "while <test>:\n",
    "    <statements>\n",
    "```"
   ]
  },
  {
   "cell_type": "code",
   "execution_count": null,
   "metadata": {},
   "outputs": [],
   "source": [
    "a = 0\n",
    "while True:\n",
    "    a = a + 1\n",
    "    if a > 10:\n",
    "        break\n",
    "    print(a)"
   ]
  },
  {
   "cell_type": "markdown",
   "metadata": {},
   "source": [
    "The `break`, `continue` and `pass` keywords will also modify control flow within a `while` loop. Look them up with the jupyter help system to understand more. They are useful, but can obfuscate your code so use them sparingly!"
   ]
  },
  {
   "cell_type": "markdown",
   "metadata": {},
   "source": [
    "### For loops\n",
    "\n",
    "For loops are very common in Python and are similar to `for` in other languages, but one nice twist with Python is that you can iterate over any sequence\n",
    "\n",
    "General form:\n",
    "```python\n",
    "for <target> in <object>:\n",
    "     <statements>\n",
    "```\n",
    "\n",
    "For the traditional for loop over integers there is a `range` keyword which will generate an aritimetic progression for you to loop over, but in general it's best to iterate over lists directly rather than indexing them. "
   ]
  },
  {
   "cell_type": "code",
   "execution_count": null,
   "metadata": {},
   "outputs": [],
   "source": [
    "for animal in ['cat', 'dog', 'elephant']:\n",
    "    print(animal, len(animal))"
   ]
  },
  {
   "cell_type": "code",
   "execution_count": null,
   "metadata": {},
   "outputs": [],
   "source": [
    "for i in range(10):\n",
    "    print(i, i**2)"
   ]
  },
  {
   "cell_type": "markdown",
   "metadata": {},
   "source": [
    "Notice that range starts at zero. Have a look at the help for `?range` and see how to change that."
   ]
  },
  {
   "cell_type": "markdown",
   "metadata": {},
   "source": [
    "**Exercies**: \n",
    "    1. Make a for loop printing the odd numbers from 1 to 99\n",
    "    1. Nest two for loops and loop over to print all items in this nested list"
   ]
  },
  {
   "cell_type": "code",
   "execution_count": null,
   "metadata": {},
   "outputs": [],
   "source": [
    "for i in range(1, 100, 2):\n",
    "    print(i)"
   ]
  },
  {
   "cell_type": "code",
   "execution_count": null,
   "metadata": {},
   "outputs": [],
   "source": [
    "# This is a terrible data structure to use here, some better options \n",
    "# might be to flatten the list, or make it a dictionary of lists\n",
    "\n",
    "countries = [\n",
    "    ['Canada','USA', 'Mexico'],\n",
    "    ['France', 'Germany', 'Romania'],\n",
    "    ['Australia', 'New Zealand']\n",
    "]"
   ]
  },
  {
   "cell_type": "code",
   "execution_count": null,
   "metadata": {},
   "outputs": [],
   "source": [
    "for country_list in countries:\n",
    "    for country in country_list:\n",
    "        print(f\"{country}\")"
   ]
  },
  {
   "cell_type": "markdown",
   "metadata": {},
   "source": [
    "When the loop body is small and simple, you can also use a list comprehension in place of a for loop. Once you get used to the syntax these are very handy, but they can make your code a bit harder for newcomers to follow and it is easy to get carried away so use them sparingly. The syntax is\n",
    "\n",
    "```python\n",
    "[<statement in x> for x in <list>]\n",
    "```\n",
    "and it will generate a list of the values of `<statement in x>`. Actually you can include an optional if statement after the `<list>` to filter the list but again it's best to keep list comprehensions short and simple."
   ]
  },
  {
   "cell_type": "code",
   "execution_count": null,
   "metadata": {},
   "outputs": [],
   "source": [
    "[x**2 for x in range(10)]"
   ]
  },
  {
   "cell_type": "markdown",
   "metadata": {},
   "source": [
    "**Exercise:** Write a while loop which will iterate over the numbers less than 100 and print out those divisible by 3"
   ]
  },
  {
   "cell_type": "code",
   "execution_count": null,
   "metadata": {},
   "outputs": [],
   "source": [
    "i = 1\n",
    "while i < 100:\n",
    "    if (i % 3) == 0:\n",
    "        print(i)\n",
    "    i += 1"
   ]
  },
  {
   "cell_type": "markdown",
   "metadata": {},
   "source": [
    "## Functions\n",
    "\n",
    "Functions let you encapsulate and reuse logic. They also let you break down your code into chunks which you can test, debug and extend independently. \n",
    "\n",
    "Defining functions in Python is very easy with the def keyword\n",
    "\n",
    "Typical form\n",
    "```python\n",
    "def <name>(<arguments>):\n",
    "    <statements>\n",
    "    return <object>\n",
    "```\n",
    "\n",
    "Here, `def` is creating some executable code and giving it the name `<name>`\n"
   ]
  },
  {
   "cell_type": "code",
   "execution_count": null,
   "metadata": {},
   "outputs": [],
   "source": [
    "def double(x):\n",
    "    return 2 * x\n",
    "\n",
    "double(3)"
   ]
  },
  {
   "cell_type": "markdown",
   "metadata": {},
   "source": [
    "Adding more arguments is easy"
   ]
  },
  {
   "cell_type": "code",
   "execution_count": null,
   "metadata": {},
   "outputs": [],
   "source": [
    "def multiplyby(x, n):\n",
    "    return x * n\n",
    "\n",
    "multiplyby(5, 2)"
   ]
  },
  {
   "cell_type": "markdown",
   "metadata": {},
   "source": [
    "The arguments and the return value(s) don't have to be simple types..."
   ]
  },
  {
   "cell_type": "code",
   "execution_count": null,
   "metadata": {},
   "outputs": [],
   "source": [
    "multiplyby(\"hip hip, \", 3)"
   ]
  },
  {
   "cell_type": "markdown",
   "metadata": {},
   "source": [
    "**Exercise:**: Write a function which takes two strings as its arguments and returns a tuple where the first item is the both strings concatenated and the second is their combined length."
   ]
  },
  {
   "cell_type": "code",
   "execution_count": null,
   "metadata": {},
   "outputs": [],
   "source": [
    "def joiner(string1, string2):\n",
    "    joined_string = string1 + ' ' + string2\n",
    "    return (joined_string, len(joined_string))\n",
    "\n",
    "joiner(\"apple\", \"orange\")"
   ]
  },
  {
   "cell_type": "markdown",
   "metadata": {},
   "source": [
    "### Scope\n",
    "\n",
    "Python uses namespaces to keep variables from colobbering one another and to make modules and code more portable. For example, when you define $\\pi = 3$ you don't want the value defined in the `scipy` module to clobber it. With namespacing you can safely set the variable `x` in two different contexts and not have them interfere with each other. When you _want_ to have them interfere with each other, you have to understand the heirarchy of namespaces that python defines (the scope of the name `x`).\n",
    "\n",
    "The basic heirarchy is something like this..."
   ]
  },
  {
   "cell_type": "markdown",
   "metadata": {},
   "source": [
    "* **B**uilt in: e.g KeyWords `open`, `range`, ...\n",
    "    * **G**lobal (module): Things at the top level of a module e.g. random inside numpy\n",
    "        * **E**nclosing function locals\n",
    "            * **L**ocal (function): names assigned within a function and not set global\n",
    "       \n",
    "The further down that list you go, the more specific the name is and the idea is that the most specific should win (like CSS etc.). It is usally referred to as the **LEGB** rule. As an example, if I do `from numpy import random`, then define random as a variable, my definition \"wins\""
   ]
  },
  {
   "cell_type": "code",
   "execution_count": null,
   "metadata": {},
   "outputs": [],
   "source": [
    "from numpy import random\n",
    "random=3\n",
    "random"
   ]
  },
  {
   "cell_type": "markdown",
   "metadata": {},
   "source": [
    "Sometimes you might want need to access a variable from one of the outer scopes, you can do this as with the `global` keyword as follows"
   ]
  },
  {
   "cell_type": "code",
   "execution_count": null,
   "metadata": {},
   "outputs": [],
   "source": [
    "x = 3\n",
    "def increment_x():\n",
    "    x = 0\n",
    "    x += 1\n",
    "\n",
    "increment_x()\n",
    "print(x)    \n"
   ]
  },
  {
   "cell_type": "code",
   "execution_count": null,
   "metadata": {},
   "outputs": [],
   "source": [
    "x = 3\n",
    "def increment_x():\n",
    "    global x\n",
    "    x += 1\n",
    "increment_x()\n",
    "print(x)"
   ]
  },
  {
   "cell_type": "markdown",
   "metadata": {},
   "source": [
    "### Lambda functions\n",
    "\n",
    "Python also has the idea of `lambda` functions. These are basically \"anonymous functions\". You can use them anywhere you would normally use a function, but you don't want to go to the bother of actually naming the thing. This sounds odd, given the description of modules I gave above, but it is sometimes useful, *I swear!* "
   ]
  },
  {
   "cell_type": "code",
   "execution_count": null,
   "metadata": {},
   "outputs": [],
   "source": [
    "def operateon(f, x, n):\n",
    "    return f(x, n)"
   ]
  },
  {
   "cell_type": "code",
   "execution_count": null,
   "metadata": {},
   "outputs": [],
   "source": [
    "operateon(lambda x, n: x**n, 3, 4)"
   ]
  },
  {
   "cell_type": "markdown",
   "metadata": {},
   "source": [
    "Lambda functions typically come up where someone has written code which expects a function as one of the arguments (e.g. massaging numbers to look like dates so that pandas can ingest them). Similar to list comprehensions and generators, you might skip over lambda functions when first learning python but they are worth picking up at sooner or later because they can make your code much neater and more efficient."
   ]
  },
  {
   "cell_type": "markdown",
   "metadata": {},
   "source": [
    "### Function arguments\n",
    "\n",
    "Functions normally act on arguments passed to them between the parentheses. Going beyond the simple examples above, Python adds a little flexibility to how arguments are specified to \n",
    "\n",
    "  1. Argument lists can be arbitrarily long and each argument can be an arbitary python object.\n",
    "  1. You can include both positional and keyword arguements. Positional arguments are just a list of names `(x, y, z)`, while keyword arguments include values (`x=1, y=2, z=3`). You can mix the types of arguments, but the positional arguements must come first.\n",
    "  1. You can specify default values when writing keyword arguments. e.g If you include `x=1` in the argument list but don't include a value for `x` when calling the function, the value `1` will be used.\n",
    "  1. Functions can support arbitrary numbers of positional arguments. To do this, you prefix the argument with a `*`. Inside the function you can iterarte over this argument as a list.\n",
    "  1. Functions can support arbitrary keyword arguments. To do this, you prefix the argument with `**`. Inside the function you can iterate over this argument as a dictionary of whatever the caller decided to pass in.\n",
    "  \n",
    "These last two points might sound arcane, but they are important and widely used. A good example is matplotlib where plotting functions can use hundreds of arguments. It is much easier to prepare a dictionary of all of your settings and expand that as needed.\n"
   ]
  },
  {
   "cell_type": "code",
   "execution_count": null,
   "metadata": {},
   "outputs": [],
   "source": [
    "def arguments(a, b, *args, c=1, **kwargs):\n",
    "    print(f\"a and b are required arguments: {a}, {b}\")\n",
    "    print(f\"and c always has a value: {c}\")\n",
    "    for arg in args:\n",
    "        print(f\"I found an extra argument: {arg}\")\n",
    "    \n",
    "    for k, v in kwargs.items():\n",
    "        print(f\"I found an extra keyword argument: {k}:{v}\")\n",
    "        \n",
    "        \n",
    "arguments(1, 2, 3, 4, 5, fruit=\"banana\", time=\"noon\")"
   ]
  },
  {
   "cell_type": "markdown",
   "metadata": {},
   "source": [
    "## Printing\n",
    "\n",
    "In python 3, `print` is a function which can take an arbitrary number of arguments. The default is to just contactenate them (`sep=''`) and add a line break `end='\\n'`"
   ]
  },
  {
   "cell_type": "code",
   "execution_count": null,
   "metadata": {},
   "outputs": [],
   "source": [
    "?print"
   ]
  },
  {
   "cell_type": "markdown",
   "metadata": {},
   "source": [
    "There isn't a whole lot more to `print` itself, but it is worth looking at some other string syntaxes. My favourite one is a recent python3 addition called `f-strings`. To make an `f-string` just prepend the string with `f`, then you can surround your variables with curly braces."
   ]
  },
  {
   "cell_type": "code",
   "execution_count": null,
   "metadata": {},
   "outputs": [],
   "source": [
    "name = \"Ian\"\n",
    "trees = [\"alder\", \"beach\", \"coconut\"]"
   ]
  },
  {
   "cell_type": "code",
   "execution_count": null,
   "metadata": {},
   "outputs": [],
   "source": [
    "print(f\"{name} is shorter than a {trees[-1]} tree.\")"
   ]
  },
  {
   "cell_type": "markdown",
   "metadata": {},
   "source": [
    "The stuff inside the curly braces can be an python expression"
   ]
  },
  {
   "cell_type": "code",
   "execution_count": null,
   "metadata": {},
   "outputs": [],
   "source": [
    "print(f\"{1+1}\")"
   ]
  },
  {
   "cell_type": "markdown",
   "metadata": {},
   "source": [
    "You can split them across multiple lines by just writing them one after the other"
   ]
  },
  {
   "cell_type": "code",
   "execution_count": null,
   "metadata": {},
   "outputs": [],
   "source": [
    "print(\n",
    "    f\" This\"\n",
    "    f\" is\"\n",
    "    f\" a\"\n",
    "    f\" long\"\n",
    "    f\" string\"\n",
    ")"
   ]
  },
  {
   "cell_type": "markdown",
   "metadata": {},
   "source": [
    "When you need to adjust the default format, the syntax is `{name:conversion}`, where the format specifiers ar a [mini language](https://docs.python.org/3.6/library/string.html#format-specification-mini-language) defined as part of the language. e.g. a is an int, but convert it to a float before printing"
   ]
  },
  {
   "cell_type": "markdown",
   "metadata": {},
   "source": [
    "Give me a fixed number of decimal places"
   ]
  },
  {
   "cell_type": "code",
   "execution_count": null,
   "metadata": {},
   "outputs": [],
   "source": [
    "f\"{1/3:.3f}\""
   ]
  },
  {
   "cell_type": "markdown",
   "metadata": {},
   "source": [
    "You can also align fields, pad them etc. Take a look at the link above then try\n",
    "\n",
    "**Exercise**: Write a for loop to the following fixed width table.\n",
    "```\n",
    "   1 | 1.0000\n",
    "   2 | 0.5000\n",
    "   3 | 0.3333\n",
    "   4 | 0.2500\n",
    "   5 | 0.2000\n",
    "   6 | 0.1667\n",
    "   7 | 0.1429\n",
    "   8 | 0.1250\n",
    "   9 | 0.1111\n",
    "```"
   ]
  },
  {
   "cell_type": "code",
   "execution_count": null,
   "metadata": {},
   "outputs": [],
   "source": [
    "for i in range(1, 10):\n",
    "    print(f\"{i} | {1/i:.4f}\")"
   ]
  },
  {
   "cell_type": "markdown",
   "metadata": {},
   "source": [
    "## Classes\n",
    "\n",
    "Object-Oriented programming in Python is a huge topic, and not one I know well. That said, the basics aren't too hard, at a bare minimum, it is worth knowing\n",
    "\n",
    "* How to define classes.\n",
    "   * Classes can have methods (functions) and attributes (variables)\n",
    "* Some common methods `__str__`, `__repr__`, `__init__`, ...\n",
    "* How to inherit from a class\n",
    "\n",
    "You can get a lot done by inheriting from the right class and just tweaking a few things you need. The Jupyter ecosystem does this __a lot__.\n",
    "\n",
    "In object oriented programming, the basic idea is to implemnt the logic and data of a problem with objects which share relationships. A simple example might be"
   ]
  },
  {
   "cell_type": "code",
   "execution_count": null,
   "metadata": {},
   "outputs": [],
   "source": [
    "class Vehicle:\n",
    "    def honk(self):\n",
    "        print(\"HONK!\")"
   ]
  },
  {
   "cell_type": "markdown",
   "metadata": {},
   "source": [
    "This is a valid class with a single method (`honk`). The idea is from this object template we should be able to create mutiple instances of Vehicle (a car, a bike, etc.). To create instances from classes you just add parenthes to the end of the class name ( `e.g. Vehicle()`). Under the hood, this calls a special method called `__init__` which can do any setup logic we need. For now we'll just use the default `__init__` method."
   ]
  },
  {
   "cell_type": "code",
   "execution_count": null,
   "metadata": {},
   "outputs": [],
   "source": [
    "BlineBus = Vehicle()\n",
    "BlineBus.honk()"
   ]
  },
  {
   "cell_type": "markdown",
   "metadata": {},
   "source": [
    "The honk method definition looks like an ordinary function definition, but with the word `self` as the first argument. The reason for this will become clear when we start thinking about the namespaces of classes and instances. Buses and Cars might go honk, but if we make a bike it could have a bell. \n",
    "\n",
    "There is some data that is naturally associated with *instances* of the class rather than the class itself. When we call a method on an instance, the instance itself gets passed in as the first argument (conventionally called `self`) which we can then modify as we need."
   ]
  },
  {
   "cell_type": "code",
   "execution_count": null,
   "metadata": {},
   "outputs": [],
   "source": [
    "class Vehicle:\n",
    "    def alerttype(self, value):\n",
    "        self.alert = value\n",
    "        \n",
    "    def honk(self):\n",
    "        print(self.alert)"
   ]
  },
  {
   "cell_type": "code",
   "execution_count": null,
   "metadata": {},
   "outputs": [],
   "source": [
    "BlineBus = Vehicle()\n",
    "IansBike = Vehicle()\n",
    "IansBike.alerttype('RING!')\n",
    "BlineBus.alerttype('HONK!')\n",
    "\n",
    "IansBike.honk()\n",
    "BlineBus.honk()"
   ]
  },
  {
   "cell_type": "markdown",
   "metadata": {},
   "source": [
    "We have two objects in memory, a bike and a bus. They each have their own memory where they can store their alert noise.\n"
   ]
  },
  {
   "cell_type": "markdown",
   "metadata": {},
   "source": [
    "We glossed over another the `__init__` method but it is worth another look. To create a vehicle, we added parenthes to the class name (`Vehicle()`). Under the hood, this called a method called `__init__` which lets us take care of any setup tasks we want our objects to have. \n",
    "\n",
    "When we define a new class it inherits definitions from any _superclasses_. Every class in Python inherits from a special class called `object` which defines `__init__` and a few other generic methods. In the examples above we were falling back on that definition but we could override it to set the alert type when creating the instances"
   ]
  },
  {
   "cell_type": "code",
   "execution_count": null,
   "metadata": {},
   "outputs": [],
   "source": [
    "isinstance(IansBike, object)"
   ]
  },
  {
   "cell_type": "code",
   "execution_count": null,
   "metadata": {},
   "outputs": [],
   "source": [
    "class Vehicle:\n",
    "    def __init__(self, value=\"Honk\"):\n",
    "        self.alert = value\n",
    "        \n",
    "    def honk(self):\n",
    "        print(self.alert)"
   ]
  },
  {
   "cell_type": "code",
   "execution_count": null,
   "metadata": {},
   "outputs": [],
   "source": [
    "IansBike = Vehicle('RING1')\n",
    "IansBike.honk()"
   ]
  },
  {
   "cell_type": "markdown",
   "metadata": {},
   "source": [
    "Taking that a step futher, we could define another class which inherits from `Vehicle`. For example, all busses are a vehicles but they also have numbers so we could inherit from Vehicle and only need to add the number."
   ]
  },
  {
   "cell_type": "code",
   "execution_count": null,
   "metadata": {},
   "outputs": [],
   "source": [
    "class Bus(Vehicle):\n",
    "    def __init__(self, number, alert=\"HONK!\"):\n",
    "        super().__init__(alert)\n",
    "        self.number = number\n",
    "        \n",
    "    def __repr__(self):\n",
    "        return f\"Bus: {self.number}, goes {self.alert}\""
   ]
  },
  {
   "cell_type": "code",
   "execution_count": null,
   "metadata": {},
   "outputs": [],
   "source": [
    "Bline = Bus(99)\n",
    "Bline"
   ]
  }
 ],
 "metadata": {
  "kernelspec": {
   "display_name": "Python 3",
   "language": "python",
   "name": "python3"
  },
  "language_info": {
   "codemirror_mode": {
    "name": "ipython",
    "version": 3
   },
   "file_extension": ".py",
   "mimetype": "text/x-python",
   "name": "python",
   "nbconvert_exporter": "python",
   "pygments_lexer": "ipython3",
   "version": "3.7.6"
  }
 },
 "nbformat": 4,
 "nbformat_minor": 2
}
