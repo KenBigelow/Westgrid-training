{
 "cells": [
  {
   "cell_type": "markdown",
   "metadata": {},
   "source": [
    "# The Python Standard Library\n",
    "\n",
    "The Python Standard Library is a collection of modules which come \"pre-baked\" when you install python. It includes lots of really useful modules such as\n",
    "\n",
    "* **os, pathlib, sys, argparse**: Interface with your operating system. Work with files etc.\n",
    "* **string, re**: Working with strings and regular expressions\n",
    "* **math, random, statistics, decimal, fractions**: Basic mathematics (we'll stick with `numpy`)\n",
    "* **time, datetime**: Work with dates and times, datetime interfaces well with `pandas`\n",
    "* **zlib, gzip, bz2, lzma, zipfile, tarfile**: Working with compression\n",
    "* **json, csv**: dealing with files (see also `pandas)\n",
    "* **email, smtplib, urllib**: Internet protocols\n",
    "* **hashlib, hmac, secrets**: Working with cryptography\n",
    "* **unittest**: Testing!                                            \n",
    "* **collections, itertools**:\n",
    "* **pickle, shelve, dmb, sqlite3**: \n",
    "* **subprocess, threading, multiprocessing**:\n",
    "* **asyncio, socket, ssl**:\n",
    "\n",
    "\n",
    "But there is [*much* more](https://docs.python.org/3/library/), more than we could ever hope to cover. The [documentation for the standard library](https://docs.python.org/3/library/) is pretty good so I'm just going to cherry a few I find interesting. You've used some of these (e.g. `string`) implicitly already."
   ]
  },
  {
   "cell_type": "markdown",
   "metadata": {},
   "source": [
    "## os, sys & pathlib\n",
    "\n",
    "Together these modules can make interfacing with the rest of your computer easier. \n",
    "\n",
    "### OS\n",
    "OS deals with miscellaneous tasks with for your operating system. The idea is that whether you are running Python on Mac, Windows or Linux there are some common tasks you'll probably want to do and you shouldn't have to worry too much about the specific OS. The `os` module provides a portable way of accessing those system dependent tasks.\n",
    "\n",
    "A good example is the environment. All 3 OS's have some concept of environment variables and os can help you examine them"
   ]
  },
  {
   "cell_type": "code",
   "execution_count": null,
   "metadata": {},
   "outputs": [],
   "source": [
    "import os\n",
    "os.environ"
   ]
  },
  {
   "cell_type": "markdown",
   "metadata": {},
   "source": [
    "So it returns a dictionary with all of my environment variables. I can also set variables"
   ]
  },
  {
   "cell_type": "code",
   "execution_count": null,
   "metadata": {},
   "outputs": [],
   "source": [
    "os.environ['NAME'] = 'iana'\n",
    "os.getenv('NAME')"
   ]
  },
  {
   "cell_type": "code",
   "execution_count": null,
   "metadata": {},
   "outputs": [],
   "source": [
    "os.getenv('SECOND_NAME', 'Not defined')"
   ]
  },
  {
   "cell_type": "markdown",
   "metadata": {},
   "source": [
    "it also has methods for dealing with files and directories"
   ]
  },
  {
   "cell_type": "code",
   "execution_count": null,
   "metadata": {},
   "outputs": [],
   "source": [
    "os.getcwd()"
   ]
  },
  {
   "cell_type": "markdown",
   "metadata": {},
   "source": [
    "`os` also has functions for working with files (in gory detail!), and for working with processes (though `subprocess` is often better)."
   ]
  },
  {
   "cell_type": "markdown",
   "metadata": {},
   "source": [
    "## Pathlib\n",
    "\n",
    "[`pathlib`](https://docs.python.org/3/library/pathlib.html) is a good partner module to `os`. As the name suggest it deals with representing filesystem paths"
   ]
  },
  {
   "cell_type": "code",
   "execution_count": null,
   "metadata": {},
   "outputs": [],
   "source": [
    "from pathlib import Path"
   ]
  },
  {
   "cell_type": "code",
   "execution_count": null,
   "metadata": {},
   "outputs": [],
   "source": [
    "p = Path('.')\n",
    "p"
   ]
  },
  {
   "cell_type": "markdown",
   "metadata": {},
   "source": [
    "That's POSIX for \"this directory\". We can look for files in this directory"
   ]
  },
  {
   "cell_type": "code",
   "execution_count": null,
   "metadata": {},
   "outputs": [],
   "source": [
    "files = list(p.glob('*.ipynb'))\n",
    "files"
   ]
  },
  {
   "cell_type": "markdown",
   "metadata": {},
   "source": [
    "(`.glob` returns a generator so we passed that to list to actually generate a list of the files)"
   ]
  },
  {
   "cell_type": "code",
   "execution_count": null,
   "metadata": {},
   "outputs": [],
   "source": [
    "p.exists()"
   ]
  },
  {
   "cell_type": "code",
   "execution_count": null,
   "metadata": {},
   "outputs": [],
   "source": [
    "p.is_dir()"
   ]
  },
  {
   "cell_type": "code",
   "execution_count": null,
   "metadata": {},
   "outputs": [],
   "source": [
    "p.name"
   ]
  },
  {
   "cell_type": "code",
   "execution_count": null,
   "metadata": {},
   "outputs": [],
   "source": [
    "files[0].name"
   ]
  },
  {
   "cell_type": "code",
   "execution_count": null,
   "metadata": {},
   "outputs": [],
   "source": [
    "files[0].suffix"
   ]
  },
  {
   "cell_type": "markdown",
   "metadata": {},
   "source": [
    "You can combine paths, figure out file types (socket, fifo, ...) and do much more. Take a look at the [paths docs](https://docs.python.org/3/library/pathlib.html) for more details."
   ]
  },
  {
   "cell_type": "markdown",
   "metadata": {},
   "source": [
    "## Regular expressions (`re`)\n",
    "\n",
    "Regular expressions are sequences of characters that define a search pattern. If you've never used them before they can look like gibberish, but with a little practice they can be extremely powerful. The [`re`](https://docs.python.org/3/library/re.html) module includes facilities for search, replacing and otherwise manipulating strings with regular expressions."
   ]
  },
  {
   "cell_type": "code",
   "execution_count": null,
   "metadata": {},
   "outputs": [],
   "source": [
    "import re"
   ]
  },
  {
   "cell_type": "markdown",
   "metadata": {},
   "source": [
    "There are two main methods for searching `search` and `match`. `search` is more general and will scan through the entire string looking for a match, `match` will only look at the start of the string. The idea with `re` is to \"compile\" your regular expression to create a regular expression object. That object then has methods for searching and other tasks."
   ]
  },
  {
   "cell_type": "code",
   "execution_count": null,
   "metadata": {},
   "outputs": [],
   "source": [
    "opening = \"\"\"Many years later, as he faced the firing squad, Colonel Aureliano Buendia was to remember that distant afternoon when his father took him to discover ice.\n",
    "\"\"\"\n",
    "re1 = re.compile(\"the\")\n",
    "match1 = re1.search(opening)\n",
    "match1"
   ]
  },
  {
   "cell_type": "markdown",
   "metadata": {},
   "source": [
    "`search` stops at the first occurrence and returns a `re.Match`. The span of the match tells us where the occurrence was"
   ]
  },
  {
   "cell_type": "code",
   "execution_count": null,
   "metadata": {},
   "outputs": [],
   "source": [
    "opening[30:33]"
   ]
  },
  {
   "cell_type": "markdown",
   "metadata": {},
   "source": [
    "The power of regular expressions is not in succincly encoding all of the properties of the class of things you want to match. e.g. it should be case-independent, there should only be one space between words, the letter follwing `s` must be either `t` or `h`, .... Here is an example"
   ]
  },
  {
   "cell_type": "code",
   "execution_count": null,
   "metadata": {},
   "outputs": [],
   "source": [
    "githubRE = re.compile(\n",
    "    'https://(?P<domain>[^,/]+)/(?P<owner>[^,/]+)/(?P<repo>[^,/]+)(\\.git)?'\n",
    ")"
   ]
  },
  {
   "cell_type": "markdown",
   "metadata": {},
   "source": [
    "If you're nfamiliar with regular expressions this can be hard to digest but basically this regular expression tries to match something like\n",
    "\n",
    "  * https://github.com/ianabc/WestGridRSSNotes\n",
    "  \n",
    "and splits it up so that we can play with the various parts (the `<domain>`, `<owner>` and `<repo>`. Here it is in action"
   ]
  },
  {
   "cell_type": "code",
   "execution_count": null,
   "metadata": {},
   "outputs": [],
   "source": [
    "teststr = \"Take a look at https://github.com/ianabc/WestGridRSSNotes\"\n",
    "\n",
    "repo_info = githubRE.search(teststr)\n",
    "repo_info"
   ]
  },
  {
   "cell_type": "code",
   "execution_count": null,
   "metadata": {},
   "outputs": [],
   "source": [
    "print(f\"The repository is on {repo_info.group('domain')}, \"\n",
    "      f\"owned by {repo_info.group('owner')} \",\n",
    "      f\"and is called {repo_info.group('repo')}\"\n",
    ")\n"
   ]
  },
  {
   "cell_type": "markdown",
   "metadata": {},
   "source": [
    "# Hashlib\n",
    "\n",
    "These modules are obviously important for working with cryptography, but hashing comes up in lots of contexts where you want to be sure you know when something has changed"
   ]
  },
  {
   "cell_type": "code",
   "execution_count": null,
   "metadata": {},
   "outputs": [],
   "source": [
    "import hashlib"
   ]
  },
  {
   "cell_type": "code",
   "execution_count": null,
   "metadata": {},
   "outputs": [],
   "source": [
    "message = \"We slept in what had once been the gymnasium.\"\n",
    "\n",
    "hashlib.sha224(message.encode()).hexdigest()"
   ]
  },
  {
   "cell_type": "code",
   "execution_count": null,
   "metadata": {},
   "outputs": [],
   "source": [
    "message = message + '\\n'\n",
    "hashlib.sha256(message.encode()).hexdigest()"
   ]
  },
  {
   "cell_type": "markdown",
   "metadata": {},
   "source": [
    "One common use for hashlib is when working with internet protocols. When you are send messages back and forth to some API it is a good idea (and is often required) to sign and hash message. The upside of this is increased security but the downside is that it can be ***extremely*** challenging to make sure that you are doing the same hashing calculation on both sides of the conversation. In the example above I added a newline to my text and look at what it did to the hash!"
   ]
  },
  {
   "cell_type": "markdown",
   "metadata": {},
   "source": [
    "## Collections\n",
    "\n",
    "As the name suggest collections adds a few more specialized container datatypes to the usual `list`, `dict`, `set` and `tuple`. Here is a summary\n",
    "\n",
    "* `namedtuple`: Like a tuple\n",
    "* `dequeue`: A list like container with fast appends and pops\n",
    "* `Chainmap`: Combine several dictionaries \n",
    "* `Counter`: Turns an iterable into a dictionary of keys and value counts\n",
    "* `OrderedDict`: Like a dictionary but ordered!\n",
    "* `defaultdict`: Like a dictionary but works with missing values\n",
    "* `UserDict`, `UserList`, `UserString`: Subclasses of existing collections\n",
    "\n",
    "The 3 items in the last bullet-point are a bit different. They are meant as a starting point for subclassing. The idea is that if you want to build something that looks like a `dict` but with some fancy features, making a new class which inherits from `UserDict` will be a lot easier than trying to inherit directly from dict."
   ]
  },
  {
   "cell_type": "markdown",
   "metadata": {},
   "source": [
    "### namedtuple\n",
    "\n",
    "`namedtuple` returns a tuple with names for each position in the tuple."
   ]
  },
  {
   "cell_type": "code",
   "execution_count": null,
   "metadata": {},
   "outputs": [],
   "source": [
    "from collections import namedtuple"
   ]
  },
  {
   "cell_type": "code",
   "execution_count": null,
   "metadata": {},
   "outputs": [],
   "source": [
    "Animal = namedtuple('Animal', 'name, legs, wings, eyes')\n",
    "wasp = Animal('Wasp', 6, 2, 3)\n",
    "elephant = Animal('Elephant', 4, 0, 2)"
   ]
  },
  {
   "cell_type": "code",
   "execution_count": null,
   "metadata": {},
   "outputs": [],
   "source": [
    "print(f\"An {elephant.name} has {elephant.legs} legs\")"
   ]
  },
  {
   "cell_type": "markdown",
   "metadata": {},
   "source": [
    "It also has a useful `__repr__()`"
   ]
  },
  {
   "cell_type": "code",
   "execution_count": null,
   "metadata": {},
   "outputs": [],
   "source": [
    "elephant"
   ]
  },
  {
   "cell_type": "markdown",
   "metadata": {},
   "source": [
    "### deque\n",
    "\n",
    "I haven't actually used this much, but the idea is to work like lists but with extra speed!\n"
   ]
  },
  {
   "cell_type": "code",
   "execution_count": null,
   "metadata": {},
   "outputs": [],
   "source": [
    "from collections import deque\n",
    "\n",
    "mylist = ['a', 'b', 'c', 'd']\n",
    "mydeque = deque(mylist)"
   ]
  },
  {
   "cell_type": "markdown",
   "metadata": {},
   "source": [
    "You get the usual `append` method and also an `appendleft` for prepending items"
   ]
  },
  {
   "cell_type": "code",
   "execution_count": null,
   "metadata": {},
   "outputs": [],
   "source": [
    "mydeque.append('e')\n",
    "mydeque.appendleft('z')\n",
    "mydeque"
   ]
  },
  {
   "cell_type": "markdown",
   "metadata": {},
   "source": [
    "You can remove the elements with `pop` and `popleft`."
   ]
  },
  {
   "cell_type": "code",
   "execution_count": null,
   "metadata": {},
   "outputs": [],
   "source": [
    "mydeque.pop()\n",
    "mydeque.popleft()\n",
    "mydeque"
   ]
  },
  {
   "cell_type": "markdown",
   "metadata": {},
   "source": [
    "You can also, `clear`, `reverse` or `count` elements in your deque"
   ]
  },
  {
   "cell_type": "code",
   "execution_count": null,
   "metadata": {},
   "outputs": [],
   "source": [
    "mydeque.append('a')\n",
    "mydeque.count('a')"
   ]
  },
  {
   "cell_type": "markdown",
   "metadata": {},
   "source": [
    "### ChainMap\n",
    "\n",
    "A `ChainMap` combines dictionaries returning a list of dictionaries. That doesn't sound too exciting, but it can be pretty convenient"
   ]
  },
  {
   "cell_type": "code",
   "execution_count": null,
   "metadata": {},
   "outputs": [],
   "source": [
    "from collections import ChainMap"
   ]
  },
  {
   "cell_type": "code",
   "execution_count": null,
   "metadata": {},
   "outputs": [],
   "source": [
    "dict1 = { 'a' : 1, 'b' : 2 }\n",
    "dict2 = { 'c' : 3, 'b' : 4 }\n",
    "chain_map = ChainMap(dict1, dict2)\n",
    "chain_map"
   ]
  },
  {
   "cell_type": "code",
   "execution_count": null,
   "metadata": {},
   "outputs": [],
   "source": [
    "chain_map['c']"
   ]
  },
  {
   "cell_type": "markdown",
   "metadata": {},
   "source": [
    "I didn't have to specify which dictonary I wanted or manually loop over the possibilities and test for existence."
   ]
  },
  {
   "cell_type": "code",
   "execution_count": null,
   "metadata": {},
   "outputs": [],
   "source": [
    "chain_map.keys()"
   ]
  },
  {
   "cell_type": "markdown",
   "metadata": {},
   "source": [
    "### Counter\n",
    "\n",
    "This might be my favourite. Technically it is a subclass of the dictionary but it adds some cool features"
   ]
  },
  {
   "cell_type": "code",
   "execution_count": null,
   "metadata": {},
   "outputs": [],
   "source": [
    "from collections import Counter"
   ]
  },
  {
   "cell_type": "code",
   "execution_count": null,
   "metadata": {},
   "outputs": [],
   "source": [
    "message = \"we slept in what had once been the gymnasium\"\n",
    "\n",
    "letter_count = Counter(message)"
   ]
  },
  {
   "cell_type": "markdown",
   "metadata": {},
   "source": [
    "Without any work we can figure out exactly how many of each letter occur in the string. `Counter` expects an iterable and in this case we passed it a string so the iteration is over the letters of the string. The counter walks that iterable, keeping track of how many of each element it has seen before. I don't know how many times I manually wrote that piece of logic before I found `Counter`, but let's say ... embarassingly often.\n",
    "\n",
    "An top of this there are some convenience methods. The result above was unordered, but `.most_common(<count>)` orders by value count."
   ]
  },
  {
   "cell_type": "code",
   "execution_count": null,
   "metadata": {},
   "outputs": [],
   "source": [
    "letter_count.most_common()"
   ]
  },
  {
   "cell_type": "markdown",
   "metadata": {},
   "source": [
    "### OrderedDict\n",
    "\n",
    "Python dictionaries are unordered but `OrderedDict` lets you add order to your hashes. The reason that Python doesn't order all dictionaries is that unordered hashes can be implemented much more efficiently. In general it's best to use ordinary dicts and sort the keys or values as you need but *sometimes* you just really need a dictionary where order matters"
   ]
  },
  {
   "cell_type": "code",
   "execution_count": null,
   "metadata": {},
   "outputs": [],
   "source": [
    "from collections import OrderedDict"
   ]
  },
  {
   "cell_type": "code",
   "execution_count": null,
   "metadata": {},
   "outputs": [],
   "source": [
    "od = OrderedDict()\n",
    "od['a'] = 1\n",
    "od['b'] = 2\n",
    "od['c'] = 3\n",
    "\n",
    "od"
   ]
  },
  {
   "cell_type": "code",
   "execution_count": null,
   "metadata": {},
   "outputs": [],
   "source": [
    "for key, value in od.items():\n",
    "    print(key, value)"
   ]
  },
  {
   "cell_type": "markdown",
   "metadata": {},
   "source": [
    "### defaultdict\n",
    "\n",
    "Normally when you ask for a key of a dictionary which doesn't exist you get an error"
   ]
  },
  {
   "cell_type": "code",
   "execution_count": null,
   "metadata": {},
   "outputs": [],
   "source": [
    "from collections import defaultdict"
   ]
  },
  {
   "cell_type": "code",
   "execution_count": null,
   "metadata": {},
   "outputs": [],
   "source": [
    "mydict = {\n",
    "    'first': 1,\n",
    "    'second' : 2\n",
    "}"
   ]
  },
  {
   "cell_type": "code",
   "execution_count": null,
   "metadata": {},
   "outputs": [],
   "source": [
    "mydict['third']"
   ]
  },
  {
   "cell_type": "markdown",
   "metadata": {},
   "source": [
    "With a `defaultdict` you can define another behaviour for keys that don't exist."
   ]
  },
  {
   "cell_type": "code",
   "execution_count": null,
   "metadata": {},
   "outputs": [],
   "source": [
    "mydefaultdict = defaultdict(int)\n",
    "mydefaultdict['first'] = 1\n",
    "mydefaultdict['second'] = 2\n",
    "\n",
    "mydefaultdict['third']"
   ]
  },
  {
   "cell_type": "markdown",
   "metadata": {},
   "source": [
    "We had to tell the `defaultdict` the type of the values, but when we did it picked a sensible default to return. Actually `defaultdict` will accept a generic factory (in the object oriented programming sense) to define what \"sensible\" should be. A typical use would be to use a function (or a lambda function) to compute what the value to use."
   ]
  }
 ],
 "metadata": {
  "kernelspec": {
   "display_name": "Python 3",
   "language": "python",
   "name": "python3"
  },
  "language_info": {
   "codemirror_mode": {
    "name": "ipython",
    "version": 3
   },
   "file_extension": ".py",
   "mimetype": "text/x-python",
   "name": "python",
   "nbconvert_exporter": "python",
   "pygments_lexer": "ipython3",
   "version": "3.7.6"
  }
 },
 "nbformat": 4,
 "nbformat_minor": 4
}
