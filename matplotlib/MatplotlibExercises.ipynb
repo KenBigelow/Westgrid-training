{
 "cells": [
  {
   "cell_type": "markdown",
   "metadata": {},
   "source": [
    "# Matplotlib Examples"
   ]
  },
  {
   "cell_type": "code",
   "execution_count": null,
   "metadata": {},
   "outputs": [],
   "source": [
    "import matplotlib.pyplot as plt\n",
    "import numpy as np\n",
    "\n",
    "\n",
    "%matplotlib inline\n",
    "plt.rcParams['figure.figsize'] = (16, 12)"
   ]
  },
  {
   "cell_type": "markdown",
   "metadata": {},
   "source": [
    "Q1. Plot the following ndarray as a simple line graph"
   ]
  },
  {
   "cell_type": "code",
   "execution_count": null,
   "metadata": {},
   "outputs": [],
   "source": [
    "x = np.linspace(-np.pi, np.pi, 100)"
   ]
  },
  {
   "cell_type": "code",
   "execution_count": null,
   "metadata": {},
   "outputs": [],
   "source": [
    "# Answer\n",
    "\n",
    "fig, ax = plt.subplots(1)\n",
    "ax.plot(x)"
   ]
  },
  {
   "cell_type": "markdown",
   "metadata": {},
   "source": [
    "Q2. Plot the $\\sin{x}$, $\\sin{x^2}$ and $\\sin{2x}$ in the same figure. Label the lines and add a legend. Add a title and set the font-size to something large and legible. Try out some different `linestyles`."
   ]
  },
  {
   "cell_type": "code",
   "execution_count": null,
   "metadata": {},
   "outputs": [],
   "source": [
    "# Answer\n",
    "\n",
    "fix, ax  = plt.subplots(1)\n",
    "\n",
    "ax.plot(np.sin(x), label='sin(x)')\n",
    "ax.plot(np.sin(x)*np.sin(x), label='sin^2(x)', linewidth=4, linestyle='-.')\n",
    "ax.plot(np.sin(x**2), label='sin(x^2)', linewidth=4, linestyle='--')\n",
    "ax.plot(np.sin(2*x), label=r'sin(2*x)', linewidth=4, linestyle=':')\n",
    "ax.set_title('Some Trig', fontdict={'fontsize': 24})\n",
    "ax.legend(fontsize=16)"
   ]
  },
  {
   "cell_type": "markdown",
   "metadata": {},
   "source": [
    "Q3. Do a scatter plot with the following data. figure out how to increase the markersize and replace the markers with diamonds"
   ]
  },
  {
   "cell_type": "code",
   "execution_count": null,
   "metadata": {},
   "outputs": [],
   "source": [
    "x = np.random.randn(100)\n",
    "y = np.random.randn(100)"
   ]
  },
  {
   "cell_type": "code",
   "execution_count": null,
   "metadata": {},
   "outputs": [],
   "source": [
    "# Answer\n",
    "\n",
    "fig, ax = plt.subplots()\n",
    "s = ax.scatter(x, y, s=32, marker='D')"
   ]
  },
  {
   "cell_type": "markdown",
   "metadata": {},
   "source": [
    "Q4. Do the same thing as in the previous question but use numpy to generate arrays for the sizes and colors of the markers. "
   ]
  },
  {
   "cell_type": "code",
   "execution_count": null,
   "metadata": {},
   "outputs": [],
   "source": [
    "# Answer\n",
    "\n",
    "colors = np.random.rand(100)\n",
    "sizes = 1000 * np.random.rand(100)\n",
    "\n",
    "fig, ax = plt.subplots(1)\n",
    "s = ax.scatter(x, y, c=colors, s=sizes, alpha=0.3, cmap='viridis')\n",
    "fig.colorbar(s, ax = ax)"
   ]
  },
  {
   "cell_type": "markdown",
   "metadata": {},
   "source": [
    "Q5. Add some gaussian noise to the following `ndarray` and plot the result as an errorbar plot. Add gridlines to the plot and adjust the font size of tick labels of the axes\n",
    "\n",
    "_Hint: Take a look at ax.tick_params help_"
   ]
  },
  {
   "cell_type": "code",
   "execution_count": null,
   "metadata": {},
   "outputs": [],
   "source": [
    "x = np.linspace(-np.pi, np.pi, 20)\n",
    "y = np.sin(x)"
   ]
  },
  {
   "cell_type": "code",
   "execution_count": null,
   "metadata": {},
   "outputs": [],
   "source": [
    "# Answer\n",
    "\n",
    "yerr = np.random.randn(x.size)* 0.1\n",
    "\n",
    "fig, ax = plt.subplots(1)\n",
    "ax.errorbar(\n",
    "    x, \n",
    "    y, \n",
    "    yerr, \n",
    "    linestyle='None', \n",
    "    color='black', \n",
    "    capsize=10, \n",
    "    markersize=10, \n",
    "    marker='x'\n",
    ")\n",
    "ax.tick_params(labelsize=24)\n",
    "ax.grid()"
   ]
  },
  {
   "cell_type": "markdown",
   "metadata": {},
   "source": [
    "Q6. Make a _normalized_ histogram of the following data. The data are distributed according to\n",
    "\n",
    "$$\n",
    "\\frac{1}{\\sigma\\sqrt{2\\pi}} e^{-\\frac{1}{2}\\left(\\frac{x - \\mu}{\\sigma}\\right)^2}\n",
    "$$\n",
    "\n",
    "Plot the analytic expression on top of your histogram.\n",
    "\n",
    "\n",
    "_Hint: Look for normalization in the help for `hist`. For the analytic part you'll need to generate a range of x values, try `np.linspace(x.min(), x.max(),100)`_"
   ]
  },
  {
   "cell_type": "code",
   "execution_count": null,
   "metadata": {},
   "outputs": [],
   "source": [
    "mu = 100\n",
    "sigma = 15\n",
    "data = 100 + 15 * np.random.randn(500)"
   ]
  },
  {
   "cell_type": "code",
   "execution_count": null,
   "metadata": {
    "scrolled": true
   },
   "outputs": [],
   "source": [
    "# Answer\n",
    "fig, ax = plt.subplots()\n",
    "\n",
    "(n, bins, _) = ax.hist(data, 20, density=True)\n",
    "ax.plot()\n",
    "\n",
    "x = np.linspace(x.min(), x.max(), 100)\n",
    "y = (\n",
    "    1./(sigma * np.sqrt(2*np.pi)) * \n",
    "    np.exp(-0.5 * ((x - mu)/sigma)**2)\n",
    ")\n",
    "\n",
    "ax.plot(x, y, linewidth=5, color='red', linestyle='--')"
   ]
  },
  {
   "cell_type": "markdown",
   "metadata": {},
   "source": [
    "Q7. We have the following signal\n",
    "\n",
    "$$\n",
    " y = \\sin{x} + \\sin{2x}\n",
    "$$\n",
    "\n",
    "We take the Fourier transform of it (using `np.fft.fft`). Make a plot with 4 subplots showing the following information\n",
    "\n",
    "1. *top-left*: The original signal\n",
    "2. *top-right*: The fourier spectrum\n",
    "3. *bottom-left*: The two largest components of the FFT\n",
    "4. *bottom-right*: A comparison of the sum of the two largest components and the signal\n",
    "\n",
    "_Hint: Try `-(a.imag[2] * np.sin(x)) / 100.` for the second component._"
   ]
  },
  {
   "cell_type": "code",
   "execution_count": null,
   "metadata": {},
   "outputs": [],
   "source": [
    "x = np.linspace(0, 4*np.pi, 200)\n",
    "y = np.sin(x) + np.sin(2*x)\n",
    "a = np.fft.rfft(y)"
   ]
  },
  {
   "cell_type": "code",
   "execution_count": null,
   "metadata": {},
   "outputs": [],
   "source": [
    "# Answer\n",
    "\n",
    "fig,ax = plt.subplots(nrows=2, ncols=2)\n",
    "\n",
    "ax[0, 0].plot(x, y, 'o-')\n",
    "ax[0, 0].set_title('Signal')\n",
    "\n",
    "ax[0, 1].plot(np.abs(a), '+', markersize=5, linestyle='None')\n",
    "ax[0, 1].set_title('Fourier amplitudes')\n",
    "\n",
    "ax[1, 0].plot(\n",
    "    x, \n",
    "    -(a.imag[2] * np.sin(x)) / 100.\n",
    ")\n",
    "ax[1, 0].plot(\n",
    "    x,\n",
    "    -(a.imag[4] * np.sin(2* x)) / 100.\n",
    ")\n",
    "ax[1, 1].set_title('Dominant FFT components')\n",
    "\n",
    "ax[1, 1].plot(\n",
    "    x, \n",
    "    -(a.imag[2] * np.sin(x) + a.imag[4] * np.sin(2 * x)) / 100.\n",
    ")\n",
    "ax[1, 1].set_title('Reconstructed signal')"
   ]
  },
  {
   "cell_type": "code",
   "execution_count": null,
   "metadata": {},
   "outputs": [],
   "source": []
  }
 ],
 "metadata": {
  "kernelspec": {
   "display_name": "Python 3",
   "language": "python",
   "name": "python3"
  },
  "language_info": {
   "codemirror_mode": {
    "name": "ipython",
    "version": 3
   },
   "file_extension": ".py",
   "mimetype": "text/x-python",
   "name": "python",
   "nbconvert_exporter": "python",
   "pygments_lexer": "ipython3",
   "version": "3.7.6"
  }
 },
 "nbformat": 4,
 "nbformat_minor": 4
}
