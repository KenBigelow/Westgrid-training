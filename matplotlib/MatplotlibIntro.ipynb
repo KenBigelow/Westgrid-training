{
 "cells": [
  {
   "cell_type": "markdown",
   "metadata": {},
   "source": [
    "# Matplotlib"
   ]
  },
  {
   "cell_type": "code",
   "execution_count": null,
   "metadata": {},
   "outputs": [],
   "source": [
    "import matplotlib as mpl\n",
    "import matplotlib.pyplot as plt\n",
    "import numpy as np\n",
    "\n",
    "%matplotlib inline\n",
    "plt.rcParams['figure.figsize'] = (16,10)"
   ]
  },
  {
   "cell_type": "markdown",
   "metadata": {},
   "source": [
    "## Visualization\n",
    "\n",
    "I'm not an expert on visualization and it is a huge topic, so I'm only going to cover enough of the basics for the examples in this repository. I'll be using a system called [matplotlib](https://matplotlib.org/), it isn't particularly exciting, but it is fairly flexible and very widely used. With a little coersion, you can usually get it to do what you need for publications etc.\n",
    "\n",
    "### Matplotlib\n",
    "\n",
    "Matplotlib is the defacto standard for visualization in python. It has been around for a long time, and it benefits from a large userbase, good documentation, [tutorials](https://matplotlib.org/tutorials/index.html) and lots of easily copied examples! Matplotlib is a module like everything else in python, and because it is so widely used there's a standard import invocation: `import matplotlib.pyplot as plt`. \n",
    "\n",
    "Matplotlib is portable across systems. For this to work it uses the concept of \"backends\" which do the actual rendering of figures. These backends vary by operating system and other factors and all you need to do is tell matplotlib which one you would like to use. For the notebook interface there is a special magic command calld `%matplotlib` which will do this for us. Most backends are hooks into specific windowing libraries or other utilities, but `inline` is a special backend which lets you display the results directly in the notebook.\n",
    "\n",
    "If you forget to specify the backend, matplotlib won't complain, but your output will be missing (matplotlib will return an object but it won't render anything). One interesting alternative to `inline` is `notebook` (or `ipympl`) which is supposed to deliver an amount of interactivity (zoom, resize etc.) but it depends on a quick kernel connection so sometimes it can be pretty slow. `inline` is normally enough for quick explorations. For more interactivity take a look at the following projects\n",
    " \n",
    "  * [altair](https://altair-viz.github.io/)\n",
    "  * [plotly](https://plot.ly/python/ipython-notebook-tutorial/)\n",
    "  * [d3](https://d3js.org/)\n",
    "  \n",
    "Matplotlib actually has two interfaces for plotting, one is a more traditional stateful interace and the other takes an object oriented approach. We'll stick to the second one because while it is a little bit more verbose, it is more flexible and widely used. If you are looking at examples, you can normally tell which one they are using by checking to see if the call `plt.plot` or `ax.plot`. The OO interface gives you explicit figure and axes objects to attach things to so it doesn't depend as strongly on current cell context (this is useful if you want to modify more than one plot)\n",
    "\n",
    "Before diving in, it is worth straightening out the terminology matplotlib uses. The [matplotlib faq](https://matplotlib.org/faq/usage_faq.html) has a handy graphic to help with this\n",
    "\n",
    "![anatomy1.png](./images/anatomy.png)"
   ]
  },
  {
   "cell_type": "markdown",
   "metadata": {},
   "source": [
    "### Basic Plotting\n",
    "\n",
    "We'll start with a line plot."
   ]
  },
  {
   "cell_type": "code",
   "execution_count": null,
   "metadata": {},
   "outputs": [],
   "source": [
    "x = np.linspace(0, 2*np.pi, 100)\n",
    "fig, ax = plt.subplots(1)\n",
    "ax.plot(x, np.sin(x))"
   ]
  },
  {
   "cell_type": "markdown",
   "metadata": {},
   "source": [
    "The first line is just giving us some numers to plot. The second line calls the subplots function with an argument of 1. If you look at the documentation for that function, it says that this should give is a single figure (canvas) and one set of axes (using the object-oriented interface). Later on, we will add other values to make more complicated plots.\n",
    "\n",
    "Within a single axes object we can plot multiple things, this will overlay the plots"
   ]
  },
  {
   "cell_type": "code",
   "execution_count": null,
   "metadata": {},
   "outputs": [],
   "source": [
    "# Plot sin(x), sin(2*x) and sin(3*x) on the same plot\n",
    "fig, ax = plt.subplots(1)\n",
    "ax.plot(x, np.sin(x))\n",
    "ax.plot(x, np.sin(2*x))\n",
    "ax.plot(x, np.sin(3*x))"
   ]
  },
  {
   "cell_type": "markdown",
   "metadata": {},
   "source": [
    "`plot` takes a huge selection of [keyword arguments](https://matplotlib.org/3.1.1/api/_as_gen/matplotlib.pyplot.plot.html). We can change line widths, colors, types, add  labels etc."
   ]
  },
  {
   "cell_type": "code",
   "execution_count": null,
   "metadata": {},
   "outputs": [],
   "source": [
    "# Plot sin(x), sin(2*x) and sin(3*x) on the same plot with `label=` for each and add a lagend to the axis\n",
    "fig, ax = plt.subplots(1)\n",
    "ax.plot(x, np.sin(x), label='sin(x)')\n",
    "ax.plot(x, np.sin(2*x), label='sin(2*x)')\n",
    "ax.plot(x, np.sin(3*x), label='sin(3*x)')\n",
    "ax.legend()"
   ]
  },
  {
   "cell_type": "code",
   "execution_count": null,
   "metadata": {},
   "outputs": [],
   "source": [
    "# Plot sin(x), sin(2*x) and sin(3*x) on the same figure with labels and different `linetype` and `linewidth` values\n",
    "fig, ax = plt.subplots(1)\n",
    "ax.plot(x, np.sin(x), label='sin(x)', linewidth=6, linestyle='-.')\n",
    "ax.plot(x, np.sin(2*x), label='sin(2x)', linewidth=4)\n",
    "ax.plot(x, np.sin(3*x), label='sin(3x)', linestyle='--')\n"
   ]
  },
  {
   "cell_type": "code",
   "execution_count": null,
   "metadata": {},
   "outputs": [],
   "source": [
    "# Same plot, but set a title on the axis, use the fontdict to change the fontsize\n",
    "# fontdict={'fontsize': 16}\n",
    "fig, ax = plt.subplots(1)\n",
    "ax.set_title('A little bit of trig', fontdict={'fontsize': 26})\n",
    "ax.plot(x, np.sin(x), label='sin(x)', linewidth=6, linestyle='-.')\n",
    "ax.plot(x, np.sin(2*x), label='sin(2*x)', linewidth=4)\n",
    "ax.plot(x, np.sin(3*x), label='sin(3*x)', linestyle='--', color='black')\n",
    "ax.legend()\n"
   ]
  },
  {
   "cell_type": "markdown",
   "metadata": {},
   "source": [
    "There are lots of ways to [specify color](https://matplotlib.org/3.1.0/tutorials/colors/colors.html#sphx-glr-tutorials-colors-colors-py)."
   ]
  },
  {
   "cell_type": "markdown",
   "metadata": {},
   "source": [
    "**Exercise**: You can modify the scale of each axis, the tick positions, lables etc. Via the `ax.set_` methods. Take a look at the documentation then , tic position almost everything via the axes, take a look at `ax.set<TAB>` and add lables for the `x` and `y` axes."
   ]
  },
  {
   "cell_type": "markdown",
   "metadata": {},
   "source": [
    "### Scatter plots\n"
   ]
  },
  {
   "cell_type": "markdown",
   "metadata": {},
   "source": [
    "axes have lots convenience methods for lots of different types of plots. One of these is the scatter plot. Take a look at the help for `plt.scatter`"
   ]
  },
  {
   "cell_type": "code",
   "execution_count": null,
   "metadata": {},
   "outputs": [],
   "source": [
    "# Create a scatter plot of x vs np.random.randn(len(x) with `marker='s'`)\n",
    "fig, ax = plt.subplots(1)\n",
    "ax.scatter(x, np.random.randn(len(x)), marker='s')"
   ]
  },
  {
   "cell_type": "markdown",
   "metadata": {},
   "source": [
    "One interesting variation is to use colors and marker size to encode more information. You can control the size of the markers with the `size=` keyword. In the example below `alpha` sets a transparency and c sets colors. Take a look at the help to understand the types of these arguments"
   ]
  },
  {
   "cell_type": "code",
   "execution_count": null,
   "metadata": {},
   "outputs": [],
   "source": [
    "x = np.random.randn(100)\n",
    "y = np.random.randn(100)\n",
    "colors = np.random.rand(100)\n",
    "sizes = 1000 * np.random.rand(100)\n",
    "\n",
    "fig, ax = plt.subplots(1)\n",
    "s = ax.scatter(x, y, c=colors, s=sizes, alpha=0.3, cmap='viridis')\n",
    "fig.colorbar(s, ax = ax)"
   ]
  },
  {
   "cell_type": "markdown",
   "metadata": {},
   "source": [
    "### Errorbar Plots\n",
    "\n",
    "Everything should have error bars! Matplotlib has a special plotting utility to make showing them easy"
   ]
  },
  {
   "cell_type": "code",
   "execution_count": null,
   "metadata": {},
   "outputs": [],
   "source": [
    "x = np.linspace(0, 10, 50)\n",
    "y = 5 + np.random.randn(50)\n",
    "yerr = 0.1 * np.random.randn(50)\n",
    "\n",
    "fig, ax = plt.subplots(1)\n",
    "ax.errorbar(x, y, yerr=yerr, linestyle='None')"
   ]
  },
  {
   "cell_type": "markdown",
   "metadata": {},
   "source": [
    "The default size for the error bar caps is too small, let's tweak this"
   ]
  },
  {
   "cell_type": "code",
   "execution_count": null,
   "metadata": {},
   "outputs": [],
   "source": [
    "x = np.linspace(0, 10, 10)\n",
    "y = 5 + 0.5 * np.random.randn(10)\n",
    "yerr = 0.3 * np.random.randn(10)\n",
    "\n",
    "fig, ax = plt.subplots(1)\n",
    "\n",
    "# Set the ylim to (0,10) and change the capsize, markersize, ecolor etc.\n",
    "ax.set_ylim(0, 10)\n",
    "ax.errorbar(\n",
    "    x, \n",
    "    y, \n",
    "    yerr, \n",
    "    linestyle='None', \n",
    "    color='black', \n",
    "    capsize=10, \n",
    "    markersize=10, \n",
    "    marker='x'\n",
    ")"
   ]
  },
  {
   "cell_type": "markdown",
   "metadata": {},
   "source": [
    "### Barplots/Histograms\n",
    "\n",
    "Histograms are useful for taking a quick look at how data is distributed. The default call will auto set a range and put things into one of 10 bins across that range. The histogram function not only plots your data but it will return 3 objects\n",
    "\n",
    "  * **n**: The number of items in each bin, as an `ndarray`\n",
    "  * **bins**: The edge locations of the bins, as an `ndarray`\n",
    "  * **patches**: A list of patches used by matplotlib to render the bins"
   ]
  },
  {
   "cell_type": "code",
   "execution_count": null,
   "metadata": {},
   "outputs": [],
   "source": [
    "# Show a histogram of `np.random.randn(1000)`\n",
    "\n",
    "fig, ax = plt.subplots()\n",
    "ax.hist(np.random.randn(1000))"
   ]
  },
  {
   "cell_type": "markdown",
   "metadata": {},
   "source": [
    "This is really handy for basic exploration, and you can tweak the bin sizes etc. as needed. In addition to the plots, you also get back a tuple with the bin counts and locations "
   ]
  },
  {
   "cell_type": "code",
   "execution_count": null,
   "metadata": {},
   "outputs": [],
   "source": [
    "# Same plot, but with\n",
    "#  * 20 bins\n",
    "#  * alpha of 0.6\n",
    "#  * Green bars\n",
    "#  * Black lines around the bars\n",
    "fig, ax = plt.subplots()\n",
    "(n, bins, _) = ax.hist(\n",
    "    np.random.randn(1000),\n",
    "    bins=20,\n",
    "    density=True,\n",
    "    alpha=0.3,\n",
    "    color='green',\n",
    "    edgecolor='k'\n",
    ")"
   ]
  },
  {
   "cell_type": "markdown",
   "metadata": {},
   "source": [
    "Bar plots are similar to histograms, but where the columns in a histogram correspond to a continuous categorical variable, the columns in a bar chart can correspond to groups defined by non-continuous categorical. e.g. Age is continuous so you could do a histogram by age, but the faculties someone might belong to are discrete so a bar chart would be best.\n",
    "\n",
    "In the example below we've jumped straight into adding a bunch of keywords. We've manually created a stacked bar plot by setting the `bottom=` keyword on the second call so that the orange bars start at the top of the corresponding blue bar."
   ]
  },
  {
   "cell_type": "code",
   "execution_count": null,
   "metadata": {},
   "outputs": [],
   "source": [
    "N = 5\n",
    "mMeans = (20, 35, 30, 35, 27)\n",
    "wMeans = (25, 32, 34, 20, 25)\n",
    "mStd = (2, 3, 4, 1, 2)\n",
    "wStd = (3, 5, 2, 3, 3)\n",
    "\n",
    "fig, ax = plt.subplots(1)\n",
    "ax.bar(np.arange(N), mMeans, width=0.35, yerr = mStd)\n",
    "ax.bar(np.arange(N), wMeans, bottom=mMeans, width=0.35, yerr = wStd)"
   ]
  },
  {
   "cell_type": "markdown",
   "metadata": {},
   "source": [
    "There's a `barh` method for doing the same thing horizontally.\n",
    "\n",
    "In `2D` there is still a useful notion of the histogram"
   ]
  },
  {
   "cell_type": "code",
   "execution_count": null,
   "metadata": {},
   "outputs": [],
   "source": [
    "fig, ax = plt.subplots(1)\n",
    "\n",
    "x, y = np.random.multivariate_normal([0, 0], [[1, 1], [1, 2]], 10000).T\n",
    "(_, _, _, h2) = ax.hist2d(x, y, bins=30, cmap='GnBu')\n",
    "cb = fig.colorbar(h2, ax=ax)\n",
    "cb.set_label('density')"
   ]
  },
  {
   "cell_type": "markdown",
   "metadata": {},
   "source": [
    "## Box plots"
   ]
  },
  {
   "cell_type": "markdown",
   "metadata": {},
   "source": [
    "### Contour plots\n",
    "\n",
    "Countour plots don't come up very often, but I like them so...\n"
   ]
  },
  {
   "cell_type": "code",
   "execution_count": null,
   "metadata": {},
   "outputs": [],
   "source": [
    "def f(x, y):\n",
    "    return np.sin(x) ** 10 + np.cos(10 + y * x) * np.cos(x)\n",
    "    \n",
    "x = np.linspace(0, 5, 50)\n",
    "y = np.linspace(0, 5, 50)\n",
    "\n",
    "X, Y = np.meshgrid(x, y)\n",
    "Z = f(X, Y)"
   ]
  },
  {
   "cell_type": "code",
   "execution_count": null,
   "metadata": {},
   "outputs": [],
   "source": [
    "fig, ax = plt.subplots(1)\n",
    "ax.contour(X, Y, Z, cmap='PRGn')"
   ]
  },
  {
   "cell_type": "markdown",
   "metadata": {},
   "source": [
    "There is a `contourf` method which will fill in the spaces between the contours."
   ]
  },
  {
   "cell_type": "code",
   "execution_count": null,
   "metadata": {},
   "outputs": [],
   "source": [
    "fig, ax = plt.subplots(1)\n",
    "cf = ax.contourf(X, Y, Z, cmap='GnBu')\n",
    "fig.colorbar(cf, ax = ax)"
   ]
  },
  {
   "cell_type": "markdown",
   "metadata": {},
   "source": [
    "## Subplots\n",
    "\n",
    "For publications you might want to have multiple plots next to each other, this is where `plt.subplots()` becomes more than boilerplate..."
   ]
  },
  {
   "cell_type": "code",
   "execution_count": null,
   "metadata": {},
   "outputs": [],
   "source": [
    "fig, ax = plt.subplots(nrows=2, ncols=2)\n",
    "\n",
    "x1 = np.linspace(0., 5.)\n",
    "x2 = np.linspace(0., 2.)\n",
    "\n",
    "y1 = np.cos(2*np.pi * x1) * np.exp(-x1)\n",
    "y2 = np.cos(2*np.pi * x2)\n",
    "\n",
    "ax[0,0].plot(x1, y1, 'o-')\n",
    "ax[0,0].set_title('Damped oscillation')\n",
    "ax[0,0].set_ylabel('Deviation')\n",
    "\n",
    "ax[0,1].plot(x2, y2, '+-', color='red')\n",
    "ax[0,1].set_title('Undamped Oscillation')\n",
    "ax[0,1].set_ylabel('Deviation')\n",
    "\n",
    "ax[1,0].plot(x1, np.exp(0.5*x1))\n",
    "ax[1,0].set_title('Exponential Growth')\n",
    "ax[1,0].set_ylabel('Deviation')\n",
    "\n",
    "ax[1,1].plot(x1, np.exp(-3*x1))\n",
    "ax[1,1].set_title('Exponential Decay')\n",
    "ax[1,1].set_ylabel('Deviation')\n"
   ]
  },
  {
   "cell_type": "markdown",
   "metadata": {},
   "source": [
    "If you need some inspiration, you can find some useful examples in [this gallery](https://matplotlib.org/3.1.0/gallery/index.html)."
   ]
  },
  {
   "cell_type": "markdown",
   "metadata": {},
   "source": [
    "There is also a whole language of annotations and patches for marking up your plots to highligh features etc."
   ]
  },
  {
   "cell_type": "code",
   "execution_count": null,
   "metadata": {},
   "outputs": [],
   "source": [
    "x = np.linspace(0, np.pi, 1000)\n",
    "y = np.tan(x)\n",
    "\n",
    "fig, ax = plt.subplots(1)\n",
    "ax.plot(x, y)\n",
    "ax.set_ylim(-10,10)\n",
    "\n",
    "_ = ax.annotate(\"This is a problem\", \n",
    "            xy=(1.55,0), # Coordinate locating the arrow \n",
    "            xytext=(2,2), # Location of the text\n",
    "            arrowprops={'facecolor': 'k', 'shrink': 0.05},\n",
    "            size=14\n",
    "           )"
   ]
  },
  {
   "cell_type": "markdown",
   "metadata": {},
   "source": [
    "## Style\n",
    "\n",
    "Matplotlib has a distinctive style, thankfully they let you specify stylesheets to change things up a bit. Take a look at `plt.style.available` and try out some alternatives. You can try them out with the context system (`with` keyword) - this tidies up the context when you are done and avoids restyling your work above."
   ]
  },
  {
   "cell_type": "code",
   "execution_count": null,
   "metadata": {},
   "outputs": [],
   "source": [
    "plt.style.available"
   ]
  },
  {
   "cell_type": "code",
   "execution_count": null,
   "metadata": {},
   "outputs": [],
   "source": [
    "with plt.style.context('dark_background'):\n",
    "    plt.plot(np.sin(np.linspace(0, 2 * np.pi)), 'r-o')\n",
    "plt.show()"
   ]
  },
  {
   "cell_type": "code",
   "execution_count": null,
   "metadata": {},
   "outputs": [],
   "source": [
    "from cycler import cycler\n",
    "plt.style.use('ggplot')\n",
    "data = np.random.randn(50)\n",
    "\n",
    "fix, ax = plt.subplots()\n",
    "ax.plot(data)"
   ]
  },
  {
   "cell_type": "markdown",
   "metadata": {},
   "source": [
    "## Other stuff\n",
    "\n",
    "Matplotlib does have some support for 3d plotting, mapping, and animation but it can be a bit fiddly\n",
    "\n"
   ]
  }
 ],
 "metadata": {
  "kernelspec": {
   "display_name": "Python 3",
   "language": "python",
   "name": "python3"
  },
  "language_info": {
   "codemirror_mode": {
    "name": "ipython",
    "version": 3
   },
   "file_extension": ".py",
   "mimetype": "text/x-python",
   "name": "python",
   "nbconvert_exporter": "python",
   "pygments_lexer": "ipython3",
   "version": "3.7.6"
  }
 },
 "nbformat": 4,
 "nbformat_minor": 2
}
