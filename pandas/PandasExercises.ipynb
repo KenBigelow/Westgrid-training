{
 "cells": [
  {
   "cell_type": "markdown",
   "metadata": {},
   "source": [
    "# Pandas Exercises\n",
    "\n",
    "Feel free to pick and choose between the exercices below. They start very simple and get more complex the deeper into the notebook you go. Answers are given in the \"answers\" branch of this repository, but should only be considered correct as far as they answer the question - there might be better or equivalent solutions which are just as valid."
   ]
  },
  {
   "cell_type": "code",
   "execution_count": 1,
   "metadata": {},
   "outputs": [],
   "source": [
    "import numpy as np\n",
    "import pandas as pd"
   ]
  },
  {
   "cell_type": "markdown",
   "metadata": {},
   "source": [
    "## Series"
   ]
  },
  {
   "cell_type": "markdown",
   "metadata": {},
   "source": [
    "Q1. Create a `Series` from the following list: [1, 2, 12, 13, 19] with the default integer index"
   ]
  },
  {
   "cell_type": "code",
   "execution_count": 3,
   "metadata": {},
   "outputs": [],
   "source": [
    "# Answer"
   ]
  },
  {
   "cell_type": "markdown",
   "metadata": {},
   "source": [
    "Q2. Create a Series of the even integers from 200 to 400. \n",
    "\n",
    "_Hint: Use range to generate the iterable you need_"
   ]
  },
  {
   "cell_type": "code",
   "execution_count": 4,
   "metadata": {},
   "outputs": [],
   "source": [
    "# Answer"
   ]
  },
  {
   "cell_type": "markdown",
   "metadata": {},
   "source": [
    "Q3. Create two series from the following dictionary, one indexed by the keys and another indexed by the values"
   ]
  },
  {
   "cell_type": "code",
   "execution_count": 5,
   "metadata": {},
   "outputs": [],
   "source": [
    "numbers = {'one': 1, 'two' : 2, 'three': 3, 'four': 4}"
   ]
  },
  {
   "cell_type": "code",
   "execution_count": 6,
   "metadata": {},
   "outputs": [],
   "source": [
    "# Answer"
   ]
  },
  {
   "cell_type": "markdown",
   "metadata": {},
   "source": [
    "Q4. Change the following series from integer values to float"
   ]
  },
  {
   "cell_type": "code",
   "execution_count": 7,
   "metadata": {},
   "outputs": [],
   "source": [
    "s3 = pd.Series([10, 20, 30, 40])"
   ]
  },
  {
   "cell_type": "code",
   "execution_count": 9,
   "metadata": {},
   "outputs": [],
   "source": [
    "# Answer"
   ]
  },
  {
   "cell_type": "markdown",
   "metadata": {},
   "source": [
    "Q5. Use integer based indexing to slice the following series keeping every 3rd item\n",
    "\n",
    "_Hint: look at the help for `pd.Series.iloc`_"
   ]
  },
  {
   "cell_type": "code",
   "execution_count": 10,
   "metadata": {},
   "outputs": [],
   "source": [
    "s4 = pd.Series(np.arange(1, 100))"
   ]
  },
  {
   "cell_type": "code",
   "execution_count": 12,
   "metadata": {},
   "outputs": [],
   "source": [
    "# Answer"
   ]
  },
  {
   "cell_type": "markdown",
   "metadata": {},
   "source": [
    "Q6. Sort the following series descending by values. Do the operation `inplace`."
   ]
  },
  {
   "cell_type": "code",
   "execution_count": 13,
   "metadata": {},
   "outputs": [],
   "source": [
    "np.random.seed(47)\n",
    "\n",
    "s5 = pd.Series(np.random.randn(100))"
   ]
  },
  {
   "cell_type": "code",
   "execution_count": 14,
   "metadata": {},
   "outputs": [],
   "source": [
    "# Answer"
   ]
  },
  {
   "cell_type": "markdown",
   "metadata": {},
   "source": [
    "Q7. Create a Series of 100 normally distributed floating point number (see the previous question) and calculate the mean and standard deviation of the values\n",
    "\n",
    "_Hint: Look for Series methods to do the `mean` and `std` calcuation_"
   ]
  },
  {
   "cell_type": "code",
   "execution_count": 15,
   "metadata": {},
   "outputs": [],
   "source": [
    "# Answer"
   ]
  },
  {
   "cell_type": "markdown",
   "metadata": {},
   "source": [
    "Q8. Use Boolean/Fancy indexing to extract the values greater than zero from the following Series and create a new series called s7a. What is the length of the resulting series?"
   ]
  },
  {
   "cell_type": "code",
   "execution_count": 16,
   "metadata": {},
   "outputs": [],
   "source": [
    "np.random.seed(47)\n",
    "s7 = pd.Series(np.random.randn(100))"
   ]
  },
  {
   "cell_type": "code",
   "execution_count": 17,
   "metadata": {},
   "outputs": [],
   "source": [
    "# Answer"
   ]
  },
  {
   "cell_type": "markdown",
   "metadata": {},
   "source": [
    "Q9. Calculate the frequency counts for the following series (i.e. how many elements of value 1, how many of value 2, .... Your answer should be another series)"
   ]
  },
  {
   "cell_type": "code",
   "execution_count": 18,
   "metadata": {},
   "outputs": [],
   "source": [
    "np.random.seed(57)\n",
    "s8 = pd.Series(np.random.choice(np.arange(1, 10, dtype=np.int), size=100))"
   ]
  },
  {
   "cell_type": "code",
   "execution_count": 19,
   "metadata": {},
   "outputs": [],
   "source": [
    "# Answer"
   ]
  },
  {
   "cell_type": "markdown",
   "metadata": {},
   "source": [
    "Q10. Capitalize the names in the values of the following series. \n",
    "\n",
    "_Hint_: Think about `apply` on a string method to the series_"
   ]
  },
  {
   "cell_type": "code",
   "execution_count": 20,
   "metadata": {},
   "outputs": [],
   "source": [
    "s9 = pd.Series(['alpha', 'beta', 'gamma', 'delta'])"
   ]
  },
  {
   "cell_type": "code",
   "execution_count": 21,
   "metadata": {},
   "outputs": [],
   "source": [
    "# Answer"
   ]
  },
  {
   "cell_type": "markdown",
   "metadata": {},
   "source": [
    "Q11. Calculate the euclidean distance between the elements of the following series. For series indexed from $0$ to $N-1$, we're looking for\n",
    "$$\n",
    "\\sqrt{\\sum_{i=0}^{N-1} \\left(b_i - a_i\\right)^2}\n",
    "$$"
   ]
  },
  {
   "cell_type": "code",
   "execution_count": 22,
   "metadata": {},
   "outputs": [],
   "source": [
    "s10a = pd.Series(np.arange(1, 10))\n",
    "s10b = pd.Series(np.arange(60, 50, -1))"
   ]
  },
  {
   "cell_type": "code",
   "execution_count": 23,
   "metadata": {},
   "outputs": [],
   "source": [
    "# Answer"
   ]
  },
  {
   "cell_type": "markdown",
   "metadata": {},
   "source": [
    "## DataFrames"
   ]
  },
  {
   "cell_type": "markdown",
   "metadata": {},
   "source": [
    "Q12. Create a `DataFrame` from the following two lists. Use the column names 'Float' and 'Int', any index will do"
   ]
  },
  {
   "cell_type": "code",
   "execution_count": 24,
   "metadata": {},
   "outputs": [],
   "source": [
    "si = np.arange(1, 6, dtype=np.int)\n",
    "sf = np.arange(1, 6, dtype=np.float)"
   ]
  },
  {
   "cell_type": "code",
   "execution_count": 25,
   "metadata": {},
   "outputs": [],
   "source": [
    "# Answer"
   ]
  },
  {
   "cell_type": "markdown",
   "metadata": {},
   "source": [
    "Q13. As above, but use the names \"one\", \"two\", ... as the index values\n",
    "\n",
    "_Hint: Look at the `set_index` method and the `pd.Index` function_"
   ]
  },
  {
   "cell_type": "code",
   "execution_count": 27,
   "metadata": {},
   "outputs": [],
   "source": [
    "# Answer"
   ]
  },
  {
   "cell_type": "markdown",
   "metadata": {},
   "source": [
    "Q14. Extract the 1st, 3rd and 5th rows of the following `DataFrame` using location based indexing (slice)"
   ]
  },
  {
   "cell_type": "code",
   "execution_count": 28,
   "metadata": {},
   "outputs": [],
   "source": [
    "d3 = pd.DataFrame({\n",
    "    'animal' : ['tiger', 'hummingbird', 'spider', 'human', 'salmon'],\n",
    "    'legs'   : [4, 2, 8, 2, 0],\n",
    "    'furry'  : [True, False, False, True, False],\n",
    "})"
   ]
  },
  {
   "cell_type": "code",
   "execution_count": 29,
   "metadata": {},
   "outputs": [],
   "source": [
    "# Answer"
   ]
  },
  {
   "cell_type": "markdown",
   "metadata": {},
   "source": [
    "Q15. Add a Boolean column called 'dangerouse' to d3 indicating whether you think the animal is dangerous or not"
   ]
  },
  {
   "cell_type": "code",
   "execution_count": 30,
   "metadata": {},
   "outputs": [],
   "source": [
    "# Answer"
   ]
  },
  {
   "cell_type": "markdown",
   "metadata": {},
   "source": [
    "Q16. Find all the animals that are both furry and dangerous\n",
    "\n",
    "_Hint: You can use Boolean/Fancy indexing and combine conditions with `&`_"
   ]
  },
  {
   "cell_type": "code",
   "execution_count": 31,
   "metadata": {},
   "outputs": [],
   "source": [
    "# Answer"
   ]
  },
  {
   "cell_type": "markdown",
   "metadata": {},
   "source": [
    "Q17. Sort the dataframe alphabetically by animal name."
   ]
  },
  {
   "cell_type": "code",
   "execution_count": 32,
   "metadata": {},
   "outputs": [],
   "source": [
    "# Answer"
   ]
  },
  {
   "cell_type": "markdown",
   "metadata": {},
   "source": [
    "Q18. Delete/Drop the dangerous column\n",
    "\n",
    "_Hint: Use the axis keyword if you need to_"
   ]
  },
  {
   "cell_type": "code",
   "execution_count": 33,
   "metadata": {},
   "outputs": [],
   "source": [
    "# Answer"
   ]
  },
  {
   "cell_type": "markdown",
   "metadata": {},
   "source": [
    "Q19. The following `DataFrame` is being read from a remote CSV. The dataset consists of 30 people who have been assigned to one of two diets (low-fat vs. no-fat) and assigned to one of 3 different exercise types (rest, walking or running). Thier pulse rate was measured at 3 different time points during their assigned exercise (1 min, 15 min and 30 min).\n",
    "\n",
    "Use `head`, `describe` to explore the contents, the dataframe will be used for the next few questions"
   ]
  },
  {
   "cell_type": "code",
   "execution_count": 34,
   "metadata": {},
   "outputs": [],
   "source": [
    "exerciseDF = pd.read_csv(\n",
    "  'https://raw.githubusercontent.com/mwaskom/seaborn-data/master/exercise.csv',\n",
    "    index_col=[0]\n",
    ")"
   ]
  },
  {
   "cell_type": "code",
   "execution_count": 35,
   "metadata": {},
   "outputs": [],
   "source": [
    "# Answer"
   ]
  },
  {
   "cell_type": "markdown",
   "metadata": {},
   "source": [
    "Q20. Calculate the `max`, `min` and `mean` of the pulse rate for all participants\n",
    "\n",
    "_Hint_: Remember you `exerciseDF['diet']` will return a series which has methods to do what you need._"
   ]
  },
  {
   "cell_type": "code",
   "execution_count": 36,
   "metadata": {},
   "outputs": [],
   "source": [
    "# Answer"
   ]
  },
  {
   "cell_type": "markdown",
   "metadata": {},
   "source": [
    "Q21. Find the row number with the maximum pulse rate, then use that value to read out the rest of the row"
   ]
  },
  {
   "cell_type": "code",
   "execution_count": 38,
   "metadata": {},
   "outputs": [],
   "source": [
    "# Answer"
   ]
  },
  {
   "cell_type": "markdown",
   "metadata": {},
   "source": [
    "Q22. Calculate the same quantities (`min`, `max` and `mean`) for people in the low-fat group who are running\n",
    "\n"
   ]
  },
  {
   "cell_type": "code",
   "execution_count": 39,
   "metadata": {},
   "outputs": [],
   "source": [
    "# Answer"
   ]
  },
  {
   "cell_type": "markdown",
   "metadata": {},
   "source": [
    "Q23. Subtract the mean value of the pulse rate from all of the pulse records and add the result as a new column called `pulse_deviation`."
   ]
  },
  {
   "cell_type": "code",
   "execution_count": 40,
   "metadata": {},
   "outputs": [],
   "source": [
    "# Answer"
   ]
  },
  {
   "cell_type": "markdown",
   "metadata": {},
   "source": [
    "Q24. Use the groupby method to group by diet, then by type and calculate the mean\n",
    "\n",
    "_Hint: Take a look at the help for groupby. It will accept a list of levels_"
   ]
  },
  {
   "cell_type": "code",
   "execution_count": 42,
   "metadata": {},
   "outputs": [],
   "source": [
    "# Answer"
   ]
  },
  {
   "cell_type": "markdown",
   "metadata": {},
   "source": [
    "Q25. Replace the `pulse_deviation` column from with values showing the deviation of each row from the relevant mean from the last question.\n",
    "\n",
    "_Hint: Building on the last question try using the `transform` method. This method can call a function on the calling DataFrame object producing a new `DataFrame` with the same length axes. Try doing this directly on the `DataFrame`, then on the `DataFrame` grouped by `diet` then finally on the groupby from above._"
   ]
  },
  {
   "cell_type": "code",
   "execution_count": 43,
   "metadata": {},
   "outputs": [],
   "source": [
    "# Answer"
   ]
  },
  {
   "cell_type": "markdown",
   "metadata": {},
   "source": [
    "## Dates and Times"
   ]
  },
  {
   "cell_type": "code",
   "execution_count": 44,
   "metadata": {},
   "outputs": [],
   "source": [
    "from datetime import datetime"
   ]
  },
  {
   "cell_type": "markdown",
   "metadata": {},
   "source": [
    "Pandas has great datetime functionality due to its origins in finance. It can make working with time series much easier particularly around indexing and sampling."
   ]
  },
  {
   "cell_type": "markdown",
   "metadata": {},
   "source": [
    "Q26. Use the `now()` function of `datetime` to find the current time stamp"
   ]
  },
  {
   "cell_type": "code",
   "execution_count": 46,
   "metadata": {},
   "outputs": [],
   "source": [
    "# Answer"
   ]
  },
  {
   "cell_type": "markdown",
   "metadata": {},
   "source": [
    "Q27. Use `pd.datetime()` function to convert some date strings to TimeStamps. Do the same thing for the current timetamp from above."
   ]
  },
  {
   "cell_type": "code",
   "execution_count": 47,
   "metadata": {},
   "outputs": [],
   "source": [
    "# Answer"
   ]
  },
  {
   "cell_type": "markdown",
   "metadata": {},
   "source": [
    "Q28. Subtract the Timestamps above from `pd.datetime(datetime.now())`"
   ]
  },
  {
   "cell_type": "code",
   "execution_count": 48,
   "metadata": {},
   "outputs": [],
   "source": [
    "# Answer"
   ]
  },
  {
   "cell_type": "markdown",
   "metadata": {},
   "source": [
    "\n",
    "\n",
    "\n",
    "There is a dataset on Ontario's electricity usage available at this location...\n",
    "\n",
    "  * http://reports.ieso.ca/public/Demand/PUB_Demand_2019.csv\n",
    "  \n",
    "We'll use `pd.read_csv` to read in the data and index it by timestamp. Here are the first few lines of the file\n",
    "```\n",
    "\\\\Hourly Demand Report,,,\n",
    "\\\\Created at 2020-05-30 07:30:10,,,\n",
    "\\\\For 2020,,,\n",
    "Date,Hour,Market Demand,Ontario Demand\n",
    "2020-01-01,1,16565,13219\n",
    "2020-01-01,2,16193,12895\n",
    "2020-01-01,3,16072,12554\n",
    "2020-01-01,4,15930,12360\n",
    "2020-01-01,5,15963,12353\n",
    "```\n"
   ]
  },
  {
   "cell_type": "markdown",
   "metadata": {},
   "source": [
    "Q29. Use `pd.read_csv` to read in the file from the location above. Compare the arguments to the help for `read_csv` if you are unsure what they do."
   ]
  },
  {
   "cell_type": "code",
   "execution_count": 49,
   "metadata": {},
   "outputs": [],
   "source": [
    "# Answer"
   ]
  },
  {
   "cell_type": "markdown",
   "metadata": {},
   "source": [
    "Q30. Use the date slice notation to select all the records from january"
   ]
  },
  {
   "cell_type": "code",
   "execution_count": 50,
   "metadata": {},
   "outputs": [],
   "source": [
    "# Answer"
   ]
  },
  {
   "cell_type": "markdown",
   "metadata": {},
   "source": [
    "Q31. Using the result from the previous question, calculate the mean demand in January"
   ]
  },
  {
   "cell_type": "code",
   "execution_count": 52,
   "metadata": {},
   "outputs": [],
   "source": [
    "# Answer"
   ]
  },
  {
   "cell_type": "markdown",
   "metadata": {},
   "source": [
    "Q32. Find the name of the day (e.g. Monday, Tuesday, ...) of where the maximum Ontario demand occurred\n",
    "\n",
    "_Hint: Have a look at the help for `Series.dt.day_name`_"
   ]
  },
  {
   "cell_type": "code",
   "execution_count": 53,
   "metadata": {},
   "outputs": [],
   "source": [
    "# Answer"
   ]
  },
  {
   "cell_type": "markdown",
   "metadata": {},
   "source": [
    "Q33. Calculate the monthly mean market demand\n",
    "\n",
    "_Hint: Resample the `DataFrame` monthly_"
   ]
  },
  {
   "cell_type": "code",
   "execution_count": 54,
   "metadata": {},
   "outputs": [],
   "source": [
    "# Answer"
   ]
  },
  {
   "cell_type": "markdown",
   "metadata": {},
   "source": [
    "Q34. Transform the index to be `TimeDeltaIndex`s relative to the first record"
   ]
  },
  {
   "cell_type": "code",
   "execution_count": 55,
   "metadata": {},
   "outputs": [],
   "source": [
    "# Answer"
   ]
  },
  {
   "cell_type": "markdown",
   "metadata": {},
   "source": [
    "The equivalent data for the current year is available at\n",
    "\n",
    "  * http://reports.ieso.ca/public/Demand/PUB_Demand.csv\n",
    "  \n",
    "Use `read_csv` to this into a `DataFrame` called `elec2020DF` (see above)."
   ]
  },
  {
   "cell_type": "code",
   "execution_count": 56,
   "metadata": {},
   "outputs": [],
   "source": [
    "# Answer"
   ]
  },
  {
   "cell_type": "markdown",
   "metadata": {},
   "source": [
    "Q35. What is the timestamp of the last record? Display the result in the following format \"Monday, Jan 1, 2020 00:00:00\" using strftime.\n",
    "\n",
    "_Hint: You'll need the strftime function. [This site](https://strftime.org/) has a useful summary of format placeholders_"
   ]
  },
  {
   "cell_type": "code",
   "execution_count": 57,
   "metadata": {},
   "outputs": [],
   "source": [
    "# Answer"
   ]
  },
  {
   "cell_type": "markdown",
   "metadata": {},
   "source": [
    "Q36. Replace the index of `elec2020DF` with a `TimeDeltaIndex` showing the time difference from the first record"
   ]
  },
  {
   "cell_type": "code",
   "execution_count": 58,
   "metadata": {},
   "outputs": [],
   "source": [
    "# Answer"
   ]
  },
  {
   "cell_type": "markdown",
   "metadata": {},
   "source": [
    "Q37. Whatever the result from the last question select the equivalent rows from the 2019 `DataFrame`. e.g. If the last record of `elec2020DF.index` is \"149 days 23:00:00\" (3600 rows). Select the same range from the `elec2019DF` `DataFrame`. Replace elec2019DF with the result"
   ]
  },
  {
   "cell_type": "code",
   "execution_count": 59,
   "metadata": {},
   "outputs": [],
   "source": [
    "# Answer"
   ]
  },
  {
   "cell_type": "markdown",
   "metadata": {},
   "source": [
    "Q38. Subtract the elec2019DF from the current year `DataFrame`."
   ]
  },
  {
   "cell_type": "code",
   "execution_count": 60,
   "metadata": {},
   "outputs": [],
   "source": [
    "# Answer"
   ]
  },
  {
   "cell_type": "markdown",
   "metadata": {},
   "source": [
    "Q39. Resample the dataframes into '24h' chunks (summing) and plot the 2019 and 2020 data for the Ontario Demand"
   ]
  },
  {
   "cell_type": "code",
   "execution_count": 61,
   "metadata": {},
   "outputs": [],
   "source": [
    "# Answer"
   ]
  },
  {
   "cell_type": "markdown",
   "metadata": {},
   "source": [
    "Q40. As above, but plot the deviations"
   ]
  },
  {
   "cell_type": "code",
   "execution_count": 62,
   "metadata": {},
   "outputs": [],
   "source": [
    "# Answer"
   ]
  }
 ],
 "metadata": {
  "kernelspec": {
   "display_name": "Python 3",
   "language": "python",
   "name": "python3"
  },
  "language_info": {
   "codemirror_mode": {
    "name": "ipython",
    "version": 3
   },
   "file_extension": ".py",
   "mimetype": "text/x-python",
   "name": "python",
   "nbconvert_exporter": "python",
   "pygments_lexer": "ipython3",
   "version": "3.7.6"
  }
 },
 "nbformat": 4,
 "nbformat_minor": 4
}
